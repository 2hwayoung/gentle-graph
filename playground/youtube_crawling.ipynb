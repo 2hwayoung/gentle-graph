{
 "cells": [
  {
   "cell_type": "code",
   "execution_count": 1,
   "metadata": {},
   "outputs": [],
   "source": [
    "from selenium import webdriver\n",
    "from selenium.webdriver.common.keys import Keys"
   ]
  },
  {
   "cell_type": "markdown",
   "metadata": {},
   "source": [
    "### settings"
   ]
  },
  {
   "cell_type": "code",
   "execution_count": 2,
   "metadata": {},
   "outputs": [],
   "source": [
    "chrome_driver = \"C:/Users/seungsu/Desktop/gentlegraph/chromedriver_win32/chromedriver.exe\"\n",
    "\n",
    "chrome_options = webdriver.ChromeOptions()\n",
    "# chrome_options.add_argument(\"headless\")\n",
    "chrome_options.add_argument(\"--window-size=1400,1080\")\n",
    "\n",
    "chrome_prefs = {}\n",
    "chrome_options.experimental_options[\"prefs\"] = chrome_prefs\n",
    "chrome_prefs[\"profile.default_content_settings\"] = {\"images\": 2,'media_stream' : 2, 'media_stream_mic' : 2, 'media_stream_camera': 2}\n",
    "chrome_prefs[\"profile.managed_default_content_settings\"] = {\"images\": 2,'media_stream' : 2, 'media_stream_mic' : 2, 'media_stream_camera': 2}\n",
    "\n",
    "driver = webdriver.Chrome(chrome_driver, options=chrome_options)"
   ]
  },
  {
   "cell_type": "markdown",
   "metadata": {},
   "source": [
    "### 전체 재생목록 가져오기"
   ]
  },
  {
   "cell_type": "code",
   "execution_count": 3,
   "metadata": {},
   "outputs": [],
   "source": [
    "import time\n",
    "\n",
    "driver.get(\"https://www.youtube.com/playlist?list=PLmtapKaZsgZt3g_uAPJbsMWdkVsznn_2R\")\n",
    "driver.execute_script('window.scrollTo(0, 20000);')\n",
    "driver.implicitly_wait(2)\n",
    "playlist = driver.find_elements_by_css_selector(\"ytd-playlist-video-renderer\")"
   ]
  },
  {
   "cell_type": "code",
   "execution_count": 4,
   "metadata": {},
   "outputs": [],
   "source": [
    "total_contents = []\n",
    "for content in playlist:\n",
    "    index = content.find_element_by_css_selector(\"#index\").text\n",
    "    video_info = content.find_element_by_css_selector(\"a#video-title\")\n",
    "    channel_info = content.find_element_by_css_selector(\"ytd-channel-name#channel-name\").find_element_by_css_selector(\"a\")\n",
    "    url = video_info.get_attribute(\"href\")\n",
    "    title = video_info.text\n",
    "    creator = channel_info.text\n",
    "    creator_channel = channel_info.get_attribute(\"href\")\n",
    "    \n",
    "    data = {\n",
    "        \"rank\" : index,\n",
    "        \"content_url\" : url,\n",
    "        \"content_title\" : title,\n",
    "        \"creator\" : creator,\n",
    "        \"creator_url\" : creator_channel\n",
    "    }\n",
    "    \n",
    "    total_contents.append(data)"
   ]
  },
  {
   "cell_type": "code",
   "execution_count": 5,
   "metadata": {},
   "outputs": [
    {
     "data": {
      "text/plain": [
       "[{'rank': '1',\n",
       "  'content_url': 'https://www.youtube.com/watch?v=v7bnOxV4jAc&list=PLmtapKaZsgZt3g_uAPJbsMWdkVsznn_2R&index=1',\n",
       "  'content_title': '[MV] IU(아이유)_LILAC(라일락)',\n",
       "  'creator': '1theK (원더케이)',\n",
       "  'creator_url': 'https://www.youtube.com/c/1theK'},\n",
       " {'rank': '2',\n",
       "  'content_url': 'https://www.youtube.com/watch?v=J_sPEzOsixE&list=PLmtapKaZsgZt3g_uAPJbsMWdkVsznn_2R&index=2',\n",
       "  'content_title': '(ENG) 나 엑소 좋아했네? 솔직히 여기 나온 노래 모르는 사람 대한민국 국민 아님(그만큼 명곡이 많다는 뜻) / [문명특급 EP.177]',\n",
       "  'creator': '문명특급 - MMTG',\n",
       "  'creator_url': 'https://www.youtube.com/c/Oopssofastexpress'},\n",
       " {'rank': '3',\n",
       "  'content_url': 'https://www.youtube.com/watch?v=6xz1bay-6dQ&list=PLmtapKaZsgZt3g_uAPJbsMWdkVsznn_2R&index=3',\n",
       "  'content_title': '[#하이라이트#]드디어 만남 성사! 진짜 BTS와 BTS 여고생의 만남! 살아계세요?#유퀴즈온더블럭 | YOU QUIZ ON THE BLOCK EP.99',\n",
       "  'creator': '유 퀴즈 온 더 튜브',\n",
       "  'creator_url': 'https://www.youtube.com/channel/UC920m3pMPH45qztdhppZhwA'},\n",
       " {'rank': '4',\n",
       "  'content_url': 'https://www.youtube.com/watch?v=9yneHTModes&list=PLmtapKaZsgZt3g_uAPJbsMWdkVsznn_2R&index=4',\n",
       "  'content_title': '[찜꽁습꽁] 상위 0.1% 천재 고양이 💖다홍이💖 모음! 세상에 다홍이 하버드 가야 할 것 같아요. (진심)ㅣSBS ENTER.',\n",
       "  'creator': 'SBS Entertainment',\n",
       "  'creator_url': 'https://www.youtube.com/user/entertainmentSBS'},\n",
       " {'rank': '5',\n",
       "  'content_url': 'https://www.youtube.com/watch?v=RNSxTfyvRHg&list=PLmtapKaZsgZt3g_uAPJbsMWdkVsznn_2R&index=5',\n",
       "  'content_title': '왜이렇게까지하는거야',\n",
       "  'creator': '런닝맨 - 스브스 공식 채널',\n",
       "  'creator_url': 'https://www.youtube.com/c/SBSRunningMan'},\n",
       " {'rank': '6',\n",
       "  'content_url': 'https://www.youtube.com/watch?v=04tYkKUPPv4&list=PLmtapKaZsgZt3g_uAPJbsMWdkVsznn_2R&index=6',\n",
       "  'content_title': 'LILAC (라일락)',\n",
       "  'creator': '이지금 [IU Official]',\n",
       "  'creator_url': 'https://www.youtube.com/channel/UC3SyT4_WLHzN7JmHQwKQZww'},\n",
       " {'rank': '7',\n",
       "  'content_url': 'https://www.youtube.com/watch?v=jGibk-kRlEA&list=PLmtapKaZsgZt3g_uAPJbsMWdkVsznn_2R&index=7',\n",
       "  'content_title': \"'아무것도 해보지 못한 경기'! 국가대표팀 친선경기 대한민국 vs 일본 하이라이트\",\n",
       "  'creator': 'MBC스포츠탐험대',\n",
       "  'creator_url': 'https://www.youtube.com/channel/UCArK9MK34LsQzPJrl5TZmYA'},\n",
       " {'rank': '8',\n",
       "  'content_url': 'https://www.youtube.com/watch?v=E_SZ3ObGyTA&list=PLmtapKaZsgZt3g_uAPJbsMWdkVsznn_2R&index=8',\n",
       "  'content_title': \"BTS (방탄소년단) 'Film out' Official Teaser\",\n",
       "  'creator': 'Big Hit Labels',\n",
       "  'creator_url': 'https://www.youtube.com/c/BigHitLabels'},\n",
       " {'rank': '9',\n",
       "  'content_url': 'https://www.youtube.com/watch?v=E787kCVAeL8&list=PLmtapKaZsgZt3g_uAPJbsMWdkVsznn_2R&index=9',\n",
       "  'content_title': 'Flu (Flu)',\n",
       "  'creator': '이지금 [IU Official]',\n",
       "  'creator_url': 'https://www.youtube.com/channel/UC3SyT4_WLHzN7JmHQwKQZww'},\n",
       " {'rank': '10',\n",
       "  'content_url': 'https://www.youtube.com/watch?v=OYYRDIll9b0&list=PLmtapKaZsgZt3g_uAPJbsMWdkVsznn_2R&index=10',\n",
       "  'content_title': '[직박구리] 이혼할 생각 있었냐는 함소원의 질문에 진화가 한 말은? #아내의맛 #TV조선조이 #TVCHOSUNJOY (TV CHOSUN 210323 방송)',\n",
       "  'creator': 'TV CHOSUN JOY',\n",
       "  'creator_url': 'https://www.youtube.com/channel/UCYeeEwH_s9yD9HQe4e2JuBw'},\n",
       " {'rank': '11',\n",
       "  'content_url': 'https://www.youtube.com/watch?v=g9dQNSju91w&list=PLmtapKaZsgZt3g_uAPJbsMWdkVsznn_2R&index=11',\n",
       "  'content_title': '슈퍼맨이 돌아왔다 375회 티저 - 찐건나블리네 [슈퍼맨이 돌아왔다/The Return of Superman] | KBS 방송',\n",
       "  'creator': 'KBS Entertain',\n",
       "  'creator_url': 'https://www.youtube.com/user/KBSEntertain'},\n",
       " {'rank': '12',\n",
       "  'content_url': 'https://www.youtube.com/watch?v=dk22oBpplKA&list=PLmtapKaZsgZt3g_uAPJbsMWdkVsznn_2R&index=12',\n",
       "  'content_title': 'Coin (Coin)',\n",
       "  'creator': '이지금 [IU Official]',\n",
       "  'creator_url': 'https://www.youtube.com/channel/UC3SyT4_WLHzN7JmHQwKQZww'},\n",
       " {'rank': '13',\n",
       "  'content_url': 'https://www.youtube.com/watch?v=eMrsoMGUeVI&list=PLmtapKaZsgZt3g_uAPJbsMWdkVsznn_2R&index=13',\n",
       "  'content_title': '유병재 누나 vs 유병재 웃음 참기 배틀 [웃지모텔 - 웃지 못하는 모텔 EP4]',\n",
       "  'creator': '유병재',\n",
       "  'creator_url': 'https://www.youtube.com/c/dbqudwo333'},\n",
       " {'rank': '14',\n",
       "  'content_url': 'https://www.youtube.com/watch?v=FYWMRFp9kHU&list=PLmtapKaZsgZt3g_uAPJbsMWdkVsznn_2R&index=14',\n",
       "  'content_title': '🚨어그로아님🚨아주대 석진이형, 늦깍이 영재되다 [런닝맨|SBS 210321 방송]',\n",
       "  'creator': 'SBS ENTER PLAY',\n",
       "  'creator_url': 'https://www.youtube.com/c/SBSENTERPLAY'},\n",
       " {'rank': '15',\n",
       "  'content_url': 'https://www.youtube.com/watch?v=BEyeVIBYaiA&list=PLmtapKaZsgZt3g_uAPJbsMWdkVsznn_2R&index=15',\n",
       "  'content_title': '사람 조아ㅠ.ㅠ🐶 친화력+순둥미 폭발하는 티아라 지연? #highlight #온앤오프#온앤오프 | onandoff EP.37',\n",
       "  'creator': 'tvN',\n",
       "  'creator_url': 'https://www.youtube.com/user/TheChtvn'},\n",
       " {'rank': '16',\n",
       "  'content_url': 'https://www.youtube.com/watch?v=wxzeqf78Lnk&list=PLmtapKaZsgZt3g_uAPJbsMWdkVsznn_2R&index=16',\n",
       "  'content_title': \"'욕설 논란' 식당에 별점 테러…결국 간판 철거 / JTBC 뉴스ON\",\n",
       "  'creator': 'JTBC News',\n",
       "  'creator_url': 'https://www.youtube.com/user/JTBC10news'},\n",
       " {'rank': '17',\n",
       "  'content_url': 'https://www.youtube.com/watch?v=v63XmlzRuac&list=PLmtapKaZsgZt3g_uAPJbsMWdkVsznn_2R&index=17',\n",
       "  'content_title': '[코다리] 흥국생명 투혼의 챔프전 진출 현장! 눈물바다가 되어버렸네ㅠㅠ',\n",
       "  'creator': 'KOVO',\n",
       "  'creator_url': 'https://www.youtube.com/channel/UC-QIqPAffXGJVgy_tnn145w'},\n",
       " {'rank': '18',\n",
       "  'content_url': 'https://www.youtube.com/watch?v=OnN_030drrw&list=PLmtapKaZsgZt3g_uAPJbsMWdkVsznn_2R&index=18',\n",
       "  'content_title': '혤💛챙 아는형님 다녀왔어요! 로제 솔로 데뷔 축하해!',\n",
       "  'creator': '혜리',\n",
       "  'creator_url': 'https://www.youtube.com/c/%ED%98%9C%EB%A6%AC0609'},\n",
       " {'rank': '19',\n",
       "  'content_url': 'https://www.youtube.com/watch?v=_vU28jNLQ-8&list=PLmtapKaZsgZt3g_uAPJbsMWdkVsznn_2R&index=19',\n",
       "  'content_title': '[4K][최준의니곡내곡] 최준 - 어떻게 이별까지 사랑하겠어,널 사랑하는 거지(feat.악뮤 수현) LIVE',\n",
       "  'creator': '피식대학Psick Univ',\n",
       "  'creator_url': 'https://www.youtube.com/channel/UCGX5sP4ehBkihHwt5bs5wvg'},\n",
       " {'rank': '20',\n",
       "  'content_url': 'https://www.youtube.com/watch?v=PJzY6RzLAlY&list=PLmtapKaZsgZt3g_uAPJbsMWdkVsznn_2R&index=20',\n",
       "  'content_title': '(EN) 두 글자...?♨ 데뷔 17년차 아이돌의 레전드 찍은 드립력 #슈퍼주니어 2탄ㅣ시즌비시즌 ep.29',\n",
       "  'creator': '시즌비시즌 Season B Season',\n",
       "  'creator_url': 'https://www.youtube.com/c/SeasonBSeason'},\n",
       " {'rank': '21',\n",
       "  'content_url': 'https://www.youtube.com/watch?v=FXxVUaY45E4&list=PLmtapKaZsgZt3g_uAPJbsMWdkVsznn_2R&index=21',\n",
       "  'content_title': '[BG-CLIP] 역주행으로 재소환💕 매일 매일 보고싶은 쁘걸이들의 활동 비하인드',\n",
       "  'creator': 'Brave Entertainment',\n",
       "  'creator_url': 'https://www.youtube.com/c/BraveEntertainment'},\n",
       " {'rank': '22',\n",
       "  'content_url': 'https://www.youtube.com/watch?v=TF9Y0S6pHm0&list=PLmtapKaZsgZt3g_uAPJbsMWdkVsznn_2R&index=22',\n",
       "  'content_title': \"일반인은 절대 '이 치킨'을 알 수 없는 이유(마지막 소름 주의)\",\n",
       "  'creator': '쿠왕coo king',\n",
       "  'creator_url': 'https://www.youtube.com/channel/UCR-qpXziP5pIqNHFKL-w12g'},\n",
       " {'rank': '23',\n",
       "  'content_url': 'https://www.youtube.com/watch?v=LV8Ezog59cI&list=PLmtapKaZsgZt3g_uAPJbsMWdkVsznn_2R&index=23',\n",
       "  'content_title': 'Brave Girls, Rollin’(브레이브걸스, 롤린) [THE SHOW 210323]',\n",
       "  'creator': 'The K-POP',\n",
       "  'creator_url': 'https://www.youtube.com/c/TheKPOP'},\n",
       " {'rank': '24',\n",
       "  'content_url': 'https://www.youtube.com/watch?v=yIwooGxe1dg&list=PLmtapKaZsgZt3g_uAPJbsMWdkVsznn_2R&index=24',\n",
       "  'content_title': '당신이 쿠지라이식 간짬뽕을 절대 알 수 없는 이유(마지막 소름 주의)',\n",
       "  'creator': '쿠왕coo king',\n",
       "  'creator_url': 'https://www.youtube.com/channel/UCR-qpXziP5pIqNHFKL-w12g'},\n",
       " {'rank': '25',\n",
       "  'content_url': 'https://www.youtube.com/watch?v=8lb2rhoeieA&list=PLmtapKaZsgZt3g_uAPJbsMWdkVsznn_2R&index=25',\n",
       "  'content_title': '붙여서 먹는 미래식량으로만 3일 버티기',\n",
       "  'creator': '공대생 변승주 DS',\n",
       "  'creator_url': 'https://www.youtube.com/c/%EA%B3%B5%EB%8C%80%EC%83%9D%EC%A3%BC%EC%A3%BC'},\n",
       " {'rank': '26',\n",
       "  'content_url': 'https://www.youtube.com/watch?v=um_8izmAQ9s&list=PLmtapKaZsgZt3g_uAPJbsMWdkVsznn_2R&index=26',\n",
       "  'content_title': '가수 에일리님 배틀그라운드 콘서트에서 마이크 넘겨받았습니다..',\n",
       "  'creator': '악동 김블루',\n",
       "  'creator_url': 'https://www.youtube.com/user/rainblueism'},\n",
       " {'rank': '27',\n",
       "  'content_url': 'https://www.youtube.com/watch?v=wUI0IPNBbYo&list=PLmtapKaZsgZt3g_uAPJbsMWdkVsznn_2R&index=27',\n",
       "  'content_title': '🏠 26평 아파텔로 이사하는 브이로그 🏠',\n",
       "  'creator': '망구 MANGOO',\n",
       "  'creator_url': 'https://www.youtube.com/channel/UCII-TCayU-6gkfzfgJKsFZw'},\n",
       " {'rank': '28',\n",
       "  'content_url': 'https://www.youtube.com/watch?v=p2aWymp1KDs&list=PLmtapKaZsgZt3g_uAPJbsMWdkVsznn_2R&index=28',\n",
       "  'content_title': \"강다니엘(KANGDANIEL) - 'YELLOW' Comeback Trailer\",\n",
       "  'creator': 'KONNECT Entertainment',\n",
       "  'creator_url': 'https://www.youtube.com/channel/UCHGJwrjlY6rmZJInxRmiztA'},\n",
       " {'rank': '29',\n",
       "  'content_url': 'https://www.youtube.com/watch?v=HFDwOwcPMJA&list=PLmtapKaZsgZt3g_uAPJbsMWdkVsznn_2R&index=29',\n",
       "  'content_title': \"'챔프전 가서도 아프지 말고 잘해야해~ ' 김연경의 다친손 어루만지는 '절친' 김수지\",\n",
       "  'creator': '스포츠조선',\n",
       "  'creator_url': 'https://www.youtube.com/channel/UCgf99FxnJYCee6WEeH58n2w'},\n",
       " {'rank': '30',\n",
       "  'content_url': 'https://www.youtube.com/watch?v=qK_vY4Qjd1g&list=PLmtapKaZsgZt3g_uAPJbsMWdkVsznn_2R&index=30',\n",
       "  'content_title': '옛날통닭에서 요리로 진화한 모던치킨까지. K치킨의 스펙트럼 | #최자로드 IN THE HOUSE EP.01',\n",
       "  'creator': 'THE BOB - 더 밥 스튜디오',\n",
       "  'creator_url': 'https://www.youtube.com/c/THEBOB%EB%8D%94%EB%B0%A5%EC%8A%A4%ED%8A%9C%EB%94%94%EC%98%A4'},\n",
       " {'rank': '31',\n",
       "  'content_url': 'https://www.youtube.com/watch?v=IeWZqi98t_k&list=PLmtapKaZsgZt3g_uAPJbsMWdkVsznn_2R&index=31',\n",
       "  'content_title': '4월까지 조정장... 염승환이 말하는 담아야할 주식, 버려야할 주식',\n",
       "  'creator': '박종훈의 경제한방 KBS',\n",
       "  'creator_url': 'https://www.youtube.com/channel/UCn_38aaCktkBLPv3EtfmiUA'},\n",
       " {'rank': '32',\n",
       "  'content_url': 'https://www.youtube.com/watch?v=o17P8nviGa0&list=PLmtapKaZsgZt3g_uAPJbsMWdkVsznn_2R&index=32',\n",
       "  'content_title': '내가 뭐든 쉽게 부르는 줄 알았어? | \"연습 별로 안 했어요, 50시간 정도\" (feat. 이수현)',\n",
       "  'creator': '티키틱 TIKITIK',\n",
       "  'creator_url': 'https://www.youtube.com/user/shinhyuk0209'},\n",
       " {'rank': '33',\n",
       "  'content_url': 'https://www.youtube.com/watch?v=wNVrdUyM01M&list=PLmtapKaZsgZt3g_uAPJbsMWdkVsznn_2R&index=33',\n",
       "  'content_title': 'BMW 7시리즈가 반값에 팔리는 이유 [카푸어] 18부',\n",
       "  'creator': '직업의모든것',\n",
       "  'creator_url': 'https://www.youtube.com/channel/UCIueALBHAyPPU7e7C2zVYRQ'},\n",
       " {'rank': '34',\n",
       "  'content_url': 'https://www.youtube.com/watch?v=QDZgF9Uo484&list=PLmtapKaZsgZt3g_uAPJbsMWdkVsznn_2R&index=34',\n",
       "  'content_title': '\"전기차는 한계가 있다!\" 세계 1위 자동차 기업 도요타의 My Way',\n",
       "  'creator': '슈카월드',\n",
       "  'creator_url': 'https://www.youtube.com/c/%EC%8A%88%EC%B9%B4%EC%9B%94%EB%93%9C'},\n",
       " {'rank': '35',\n",
       "  'content_url': 'https://www.youtube.com/watch?v=O_KCBznymPM&list=PLmtapKaZsgZt3g_uAPJbsMWdkVsznn_2R&index=35',\n",
       "  'content_title': '출산 브이로그🤰🏻자연 분만, 일주일 진통 기다리며 먹부림🍛, 순산 기 받아가세요!!',\n",
       "  'creator': 'yoovlog',\n",
       "  'creator_url': 'https://www.youtube.com/c/yootruevlog'},\n",
       " {'rank': '36',\n",
       "  'content_url': 'https://www.youtube.com/watch?v=j5kKZ6S0rv0&list=PLmtapKaZsgZt3g_uAPJbsMWdkVsznn_2R&index=36',\n",
       "  'content_title': '금으로 만든 코스요리',\n",
       "  'creator': '취미로 요리하는 남자 Yonam',\n",
       "  'creator_url': 'https://www.youtube.com/c/YonamTV'},\n",
       " {'rank': '37',\n",
       "  'content_url': 'https://www.youtube.com/watch?v=OMGk7z2NUOo&list=PLmtapKaZsgZt3g_uAPJbsMWdkVsznn_2R&index=37',\n",
       "  'content_title': '남편의 깜짝선물🎁/스위트룸 호캉스🏨/딸기 에프터눈 티🍓/롤린 배우기🎶',\n",
       "  'creator': '아옳이',\n",
       "  'creator_url': 'https://www.youtube.com/channel/UCE8SAlfZT-T8iwa7aOD8vaQ'},\n",
       " {'rank': '38',\n",
       "  'content_url': 'https://www.youtube.com/watch?v=Aq9A0h7_Cu0&list=PLmtapKaZsgZt3g_uAPJbsMWdkVsznn_2R&index=38',\n",
       "  'content_title': '국가대표vs일반인몸짱vs월드스타 누가 더 몸이 좋을까?',\n",
       "  'creator': '지기TV',\n",
       "  'creator_url': 'https://www.youtube.com/channel/UCQ4eZwsMew7ZaV_HKXnQLGg'},\n",
       " {'rank': '39',\n",
       "  'content_url': 'https://www.youtube.com/watch?v=GoJjr53gz28&list=PLmtapKaZsgZt3g_uAPJbsMWdkVsznn_2R&index=39',\n",
       "  'content_title': '병맛더빙 - 4차원 아기들',\n",
       "  'creator': '병맛교수',\n",
       "  'creator_url': 'https://www.youtube.com/channel/UC5RIONX9G_2zb_x4SRJgBbQ'},\n",
       " {'rank': '40',\n",
       "  'content_url': 'https://www.youtube.com/watch?v=eXYwOqLEAzk&list=PLmtapKaZsgZt3g_uAPJbsMWdkVsznn_2R&index=40',\n",
       "  'content_title': '펜트하우스2 1인 5역 성대모사 | The Penthouse impressions',\n",
       "  'creator': 'LilySeeun릴리세은',\n",
       "  'creator_url': 'https://www.youtube.com/channel/UCemKWU64E4COpuat5rqbOhw'},\n",
       " {'rank': '41',\n",
       "  'content_url': 'https://www.youtube.com/watch?v=Ozp7CcwSdoU&list=PLmtapKaZsgZt3g_uAPJbsMWdkVsznn_2R&index=41',\n",
       "  'content_title': '살아있는 크레이피시 회,찜,라면 7kg 먹방',\n",
       "  'creator': 'tzuyang쯔양',\n",
       "  'creator_url': 'https://www.youtube.com/channel/UCfpaSruWW3S4dibonKXENjA'},\n",
       " {'rank': '42',\n",
       "  'content_url': 'https://www.youtube.com/watch?v=D11JptjUs5E&list=PLmtapKaZsgZt3g_uAPJbsMWdkVsznn_2R&index=42',\n",
       "  'content_title': '(실험) 여자 중저음이 헬륨가스를 마셔봤다',\n",
       "  'creator': '임한올 Hanol Rim',\n",
       "  'creator_url': 'https://www.youtube.com/user/issabelrim'},\n",
       " {'rank': '43',\n",
       "  'content_url': 'https://www.youtube.com/watch?v=bRFFYJm9-cs&list=PLmtapKaZsgZt3g_uAPJbsMWdkVsznn_2R&index=43',\n",
       "  'content_title': '바람든 무 버리지마세요/음식물 쓰레기 줄이는 맛있는 살림팁/바람든 무 활용법 2가지',\n",
       "  'creator': '살림스케치salimsketch',\n",
       "  'creator_url': 'https://www.youtube.com/c/salimsketch'},\n",
       " {'rank': '44',\n",
       "  'content_url': 'https://www.youtube.com/watch?v=jrtgvxoOT70&list=PLmtapKaZsgZt3g_uAPJbsMWdkVsznn_2R&index=44',\n",
       "  'content_title': '금손의 팝잇 만들기 vs 똥손의 팝잇 만들기..! 요즘 유행하는 푸쉬팝을 직접 만들 수 있을까?! [예씨 yessii]',\n",
       "  'creator': '예씨 yessii',\n",
       "  'creator_url': 'https://www.youtube.com/channel/UCVyMrl0N9SMwqaa2OHcJOkA'},\n",
       " {'rank': '45',\n",
       "  'content_url': 'https://www.youtube.com/watch?v=BGXI-uyMDlc&list=PLmtapKaZsgZt3g_uAPJbsMWdkVsznn_2R&index=45',\n",
       "  'content_title': '배떡 로제떡볶이 먹방 리뷰 ㅋㅋㅋ',\n",
       "  'creator': '꽈뚜룹',\n",
       "  'creator_url': 'https://www.youtube.com/c/%EA%BD%88%EB%9A%9C%EB%A3%B9'},\n",
       " {'rank': '46',\n",
       "  'content_url': 'https://www.youtube.com/watch?v=JLTSCQDvf80&list=PLmtapKaZsgZt3g_uAPJbsMWdkVsznn_2R&index=46',\n",
       "  'content_title': '어몽어스 VR좀비2(SCP) 4화 [어몽어스 애니메이션] / [AMONG US ANIMATION]',\n",
       "  'creator': '썰레임 Ssuleim',\n",
       "  'creator_url': 'https://www.youtube.com/c/%EC%8D%B0%EB%A0%88%EC%9E%84Ssuleim'},\n",
       " {'rank': '47',\n",
       "  'content_url': 'https://www.youtube.com/watch?v=fNp_bSlgT1c&list=PLmtapKaZsgZt3g_uAPJbsMWdkVsznn_2R&index=47',\n",
       "  'content_title': '사랑이 싹트는 좋소 - 【좋좋소 Ep.10】',\n",
       "  'creator': '이과장',\n",
       "  'creator_url': 'https://www.youtube.com/channel/UCtfriFvIe5gIe8wRWb8UTMg'},\n",
       " {'rank': '48',\n",
       "  'content_url': 'https://www.youtube.com/watch?v=RsMZvqa8P_w&list=PLmtapKaZsgZt3g_uAPJbsMWdkVsznn_2R&index=48',\n",
       "  'content_title': '24시간동안 익숙한 음식 VS 생소한 음식!! 늘 먹던 라면이 가장 맛있을까?!',\n",
       "  'creator': '파뿌리',\n",
       "  'creator_url': 'https://www.youtube.com/channel/UClzB2iZ5jPoTNz0S-QU6Wiw'},\n",
       " {'rank': '49',\n",
       "  'content_url': 'https://www.youtube.com/watch?v=iSkSngiLw_w&list=PLmtapKaZsgZt3g_uAPJbsMWdkVsznn_2R&index=49',\n",
       "  'content_title': 'ENG/IDN] [몰카] 헬스장 몰카6ㅋㅋㅋㅋㅋㅋㅋ - [동네놈들｜HOODBOYZ]',\n",
       "  'creator': '동네놈들',\n",
       "  'creator_url': 'https://www.youtube.com/channel/UCIuFnJrRwHEUcIVtozJnUGA'},\n",
       " {'rank': '50',\n",
       "  'content_url': 'https://www.youtube.com/watch?v=r1H-b2mcz2s&list=PLmtapKaZsgZt3g_uAPJbsMWdkVsznn_2R&index=50',\n",
       "  'content_title': '[몰카] 반마리2탄 나왔다!! 횟집에서 반말부터 하는 진상 아저씨 말빨로 뚜까 패버렸으니 우리모두 진상부리지 말고 구독하라!!!!!!!!!',\n",
       "  'creator': '희극인',\n",
       "  'creator_url': 'https://www.youtube.com/channel/UCQmu3URPR1PXJUZPQTD4QZQ'},\n",
       " {'rank': '51',\n",
       "  'content_url': 'https://www.youtube.com/watch?v=PtRWZl_kG4E&list=PLmtapKaZsgZt3g_uAPJbsMWdkVsznn_2R&index=51',\n",
       "  'content_title': '조심하세요🚨 머리 나가.. 아니 하이킥 나갑니다 [시켜서한다! 오늘부터 운동뚱] 53회',\n",
       "  'creator': '맛있는 녀석들 (Tasty Guys)',\n",
       "  'creator_url': 'https://www.youtube.com/c/%EB%A7%9B%EC%9E%88%EB%8A%94%EB%85%80%EC%84%9D%EB%93%A4TastyGuys'},\n",
       " {'rank': '52',\n",
       "  'content_url': 'https://www.youtube.com/watch?v=OM1w-8sHRE0&list=PLmtapKaZsgZt3g_uAPJbsMWdkVsznn_2R&index=52',\n",
       "  'content_title': '(ENG) 자 이게 점멸이야...T1에서 세계 최고 선생님과 롤 강의 l 서폿차이 프롤로그',\n",
       "  'creator': '하하 PD HAHA PD',\n",
       "  'creator_url': 'https://www.youtube.com/c/%ED%95%98%ED%95%98PDHAHAPD'},\n",
       " {'rank': '53',\n",
       "  'content_url': 'https://www.youtube.com/watch?v=pXmfIDLdV8A&list=PLmtapKaZsgZt3g_uAPJbsMWdkVsznn_2R&index=53',\n",
       "  'content_title': '🚣추신수-꼰맥-최정 치트키 총출동🚣 비하인드 맛집 SSG! 대구 훈련 [쓱케치]',\n",
       "  'creator': 'SSG랜더스',\n",
       "  'creator_url': 'https://www.youtube.com/c/SSGLANDERS'},\n",
       " {'rank': '54',\n",
       "  'content_url': 'https://www.youtube.com/watch?v=N_qAJyo0Yaw&list=PLmtapKaZsgZt3g_uAPJbsMWdkVsznn_2R&index=54',\n",
       "  'content_title': \"'의리'가 사훈에 들어가는 신기한 재벌.. 다이너마이트 킴과 올빽 회장님의 전설, 한화 이야기 /소비더머니\",\n",
       "  'creator': '소비더머니',\n",
       "  'creator_url': 'https://www.youtube.com/channel/UCjHn_Os5NoCXZyoXzuKth9w'},\n",
       " {'rank': '55',\n",
       "  'content_url': 'https://www.youtube.com/watch?v=D-q6HDjMTA0&list=PLmtapKaZsgZt3g_uAPJbsMWdkVsznn_2R&index=55',\n",
       "  'content_title': 'Vogue photo shoot vlog',\n",
       "  'creator': 'Jennierubyjane Official',\n",
       "  'creator_url': 'https://www.youtube.com/channel/UCNYi_zGmR519r5gYdOKLTjQ'},\n",
       " {'rank': '56',\n",
       "  'content_url': 'https://www.youtube.com/watch?v=5dbFOSdQWb8&list=PLmtapKaZsgZt3g_uAPJbsMWdkVsznn_2R&index=56',\n",
       "  'content_title': '[전참시] 이십끼형도 놀란 천뚱의 먹스킬🤟 먹티스트들의 스페셜한 라면 꿀팁 먹방🍝ㅣ#천뚱 #유민상 #엠뚜루마뚜루 MBC210320방송',\n",
       "  'creator': '엠뚜루마뚜루 : MBC 공식 종합 채널',\n",
       "  'creator_url': 'https://www.youtube.com/channel/UCiwQRG2sCcfjKkgxMEdJGPg'},\n",
       " {'rank': '57',\n",
       "  'content_url': 'https://www.youtube.com/watch?v=I_elQPaEJBg&list=PLmtapKaZsgZt3g_uAPJbsMWdkVsznn_2R&index=57',\n",
       "  'content_title': '누구나 한번쯤 꿈꾸는 전원생활, 행복했던 전원생활의 꿈이 악몽이 된 이유는? KBS 210324 방송',\n",
       "  'creator': 'KBS 교양',\n",
       "  'creator_url': 'https://www.youtube.com/user/KBSLife'},\n",
       " {'rank': '58',\n",
       "  'content_url': 'https://www.youtube.com/watch?v=bNjDFuB-Ons&list=PLmtapKaZsgZt3g_uAPJbsMWdkVsznn_2R&index=58',\n",
       "  'content_title': '물바가지',\n",
       "  'creator': '런닝맨 - 스브스 공식 채널',\n",
       "  'creator_url': 'https://www.youtube.com/c/SBSRunningMan'},\n",
       " {'rank': '59',\n",
       "  'content_url': 'https://www.youtube.com/watch?v=n0u7KrjCilI&list=PLmtapKaZsgZt3g_uAPJbsMWdkVsznn_2R&index=59',\n",
       "  'content_title': '[나혼자산다 선공개] 프로 주부가 된 키와 태연의 현실 남매 케미♨ 맘카페 정모 아닙니다...☆, MBC 210319 방송',\n",
       "  'creator': '나혼자산다 STUDIO',\n",
       "  'creator_url': 'https://www.youtube.com/channel/UCYt4Sto4vj6JMMDnEaUB6Iw'},\n",
       " {'rank': '60',\n",
       "  'content_url': 'https://www.youtube.com/watch?v=9CPWYGQcR7c&list=PLmtapKaZsgZt3g_uAPJbsMWdkVsznn_2R&index=60',\n",
       "  'content_title': '철이 없었죠 벼농사를 한다는게... l 철원일기 2화',\n",
       "  'creator': '승우아빠 이상채널',\n",
       "  'creator_url': 'https://www.youtube.com/channel/UCIY5oUCeajc-RrQovJHBp1A'},\n",
       " {'rank': '61',\n",
       "  'content_url': 'https://www.youtube.com/watch?v=544FWMN3WO0&list=PLmtapKaZsgZt3g_uAPJbsMWdkVsznn_2R&index=61',\n",
       "  'content_title': '[마이보그]이영지 등판🔥가방없는🔥 역대급 인마이백! 12kg 감량 성공한 다이어트 식단과 무지개 앞머리의 비밀은!? | MYVOGUE',\n",
       "  'creator': 'VOGUE KOREA',\n",
       "  'creator_url': 'https://www.youtube.com/user/VogueKorea'},\n",
       " {'rank': '62',\n",
       "  'content_url': 'https://www.youtube.com/watch?v=dfP8E13VPKM&list=PLmtapKaZsgZt3g_uAPJbsMWdkVsznn_2R&index=62',\n",
       "  'content_title': '[짐승친구들] 뼈 VS 순살',\n",
       "  'creator': '짤툰',\n",
       "  'creator_url': 'https://www.youtube.com/c/%EC%A7%A4%ED%88%B01'},\n",
       " {'rank': '63',\n",
       "  'content_url': 'https://www.youtube.com/watch?v=NLLoEzK_bQA&list=PLmtapKaZsgZt3g_uAPJbsMWdkVsznn_2R&index=63',\n",
       "  'content_title': '[20/21 PL 18R] A.빌라 vs 토트넘 H/L',\n",
       "  'creator': 'SPOTV',\n",
       "  'creator_url': 'https://www.youtube.com/user/spotv'},\n",
       " {'rank': '64',\n",
       "  'content_url': 'https://www.youtube.com/watch?v=hRZbc46eia8&list=PLmtapKaZsgZt3g_uAPJbsMWdkVsznn_2R&index=64',\n",
       "  'content_title': '13년 만에 슈퍼매치 득점이자 3경기 연속골 터뜨린 기성용 기라드 ㄷㄷ(100% 아니라더니 진짜였음)',\n",
       "  'creator': 'TEAMTWELVE',\n",
       "  'creator_url': 'https://www.youtube.com/channel/UCzjPaOBCe0K2ma8XJzsNonA'},\n",
       " {'rank': '65',\n",
       "  'content_url': 'https://www.youtube.com/watch?v=2iq_CmEXSZg&list=PLmtapKaZsgZt3g_uAPJbsMWdkVsznn_2R&index=65',\n",
       "  'content_title': 'sub) 자취 시작 첫 일주일ㅣ배달 음식 100%ㅣ졸업 논문 1차 제출ㅣ더현대 서울ㅣ팬텀싱어',\n",
       "  'creator': 'deemd',\n",
       "  'creator_url': 'https://www.youtube.com/c/deemd'},\n",
       " {'rank': '66',\n",
       "  'content_url': 'https://www.youtube.com/watch?v=9jdQwhF-HbY&list=PLmtapKaZsgZt3g_uAPJbsMWdkVsznn_2R&index=66',\n",
       "  'content_title': '[나혼자산다 미방분] 키와 민호의 돈독한(?) 우정♨ 샤이니 91라인의 현실 케미?!, MBC 210319 방송',\n",
       "  'creator': '나혼자산다 STUDIO',\n",
       "  'creator_url': 'https://www.youtube.com/channel/UCYt4Sto4vj6JMMDnEaUB6Iw'},\n",
       " {'rank': '67',\n",
       "  'content_url': 'https://www.youtube.com/watch?v=9OzvUIlkN6U&list=PLmtapKaZsgZt3g_uAPJbsMWdkVsznn_2R&index=67',\n",
       "  'content_title': '100만원으로 시장 털었습니다.',\n",
       "  'creator': 'tzuyang쯔양',\n",
       "  'creator_url': 'https://www.youtube.com/channel/UCfpaSruWW3S4dibonKXENjA'},\n",
       " {'rank': '68',\n",
       "  'content_url': 'https://www.youtube.com/watch?v=XLTWhvtPxSQ&list=PLmtapKaZsgZt3g_uAPJbsMWdkVsznn_2R&index=68',\n",
       "  'content_title': '70년대 인기가수 방주연이 화병(火病)난 사연.. 남편 무덤가를 떠돈다고? [특종세상] MBN 200605 방송',\n",
       "  'creator': 'MBN Entertainment',\n",
       "  'creator_url': 'https://www.youtube.com/channel/UCYyLIlOJyqkAFKlVjzX5img'},\n",
       " {'rank': '69',\n",
       "  'content_url': 'https://www.youtube.com/watch?v=d_UPBuYfUfA&list=PLmtapKaZsgZt3g_uAPJbsMWdkVsznn_2R&index=69',\n",
       "  'content_title': '빈센조 송중기, 전여빈, 옥택연이 온몸 던져 퀴즈를 맞힌 이유는? TMI 퀴즈 | 넷플릭스 [ENG SUB]',\n",
       "  'creator': 'Netflix Korea',\n",
       "  'creator_url': 'https://www.youtube.com/c/NetflixKorea'},\n",
       " {'rank': '70',\n",
       "  'content_url': 'https://www.youtube.com/watch?v=9n3ImlDnQEo&list=PLmtapKaZsgZt3g_uAPJbsMWdkVsznn_2R&index=70',\n",
       "  'content_title': \"[멜로다큐 '가족' 58회③] 사위 따라 각설이 하는 딸 때문에 속상해 오열하는 친정어머니\",\n",
       "  'creator': 'OBS TV',\n",
       "  'creator_url': 'https://www.youtube.com/c/OBSKyungIn'},\n",
       " {'rank': '71',\n",
       "  'content_url': 'https://www.youtube.com/watch?v=6ZwJL5Q8WM8&list=PLmtapKaZsgZt3g_uAPJbsMWdkVsznn_2R&index=71',\n",
       "  'content_title': '[동충하초] 야동충',\n",
       "  'creator': '키에커',\n",
       "  'creator_url': 'https://www.youtube.com/c/%ED%82%A4%EC%97%90%EC%BB%A4'},\n",
       " {'rank': '72',\n",
       "  'content_url': 'https://www.youtube.com/watch?v=Yq1HlQ1hz3c&list=PLmtapKaZsgZt3g_uAPJbsMWdkVsznn_2R&index=72',\n",
       "  'content_title': '시집간 딸이 걱정돼 한국에 온 부모님이 놀라 고국으로 돌아간 이유',\n",
       "  'creator': '아이스튜디오',\n",
       "  'creator_url': 'https://www.youtube.com/channel/UC_pOKLycxyVwNneMVjfMBUA'},\n",
       " {'rank': '73',\n",
       "  'content_url': 'https://www.youtube.com/watch?v=5e7qMOZvgwg&list=PLmtapKaZsgZt3g_uAPJbsMWdkVsznn_2R&index=73',\n",
       "  'content_title': '[4K][special] 10CM의 킬링보이스를 라이브로! /폰서트, 매트리스, pet, 봄이좋냐??, TV를껐네, Perfect, 입김, 스토커, 사랑은은하수다방에서, 아메리카노',\n",
       "  'creator': '딩고 뮤직 / dingo music',\n",
       "  'creator_url': 'https://www.youtube.com/c/DingoMusic'},\n",
       " {'rank': '74',\n",
       "  'content_url': 'https://www.youtube.com/watch?v=pLm0wlAaC9k&list=PLmtapKaZsgZt3g_uAPJbsMWdkVsznn_2R&index=74',\n",
       "  'content_title': '도ㅏ둘 경쥉할 준뷔가 됐놔~?🤟🏻｜시티고 1학년 27반｜2,3교시 & 쉬는 시간',\n",
       "  'creator': 'NCT 127',\n",
       "  'creator_url': 'https://www.youtube.com/channel/UCk2E0dbAyEJWnrN2bbQOcbg'},\n",
       " {'rank': '75',\n",
       "  'content_url': 'https://www.youtube.com/watch?v=oLrwQW8_4os&list=PLmtapKaZsgZt3g_uAPJbsMWdkVsznn_2R&index=75',\n",
       "  'content_title': \"[예능연구소 4K] 브레이브걸스 직캠 롤린(Rollin') (BraveGirls FanCam) @Show!MusicCore MBC210320방송\",\n",
       "  'creator': 'MBCkpop',\n",
       "  'creator_url': 'https://www.youtube.com/user/MBCkpop'},\n",
       " {'rank': '76',\n",
       "  'content_url': 'https://www.youtube.com/watch?v=TTfzRbSFtLY&list=PLmtapKaZsgZt3g_uAPJbsMWdkVsznn_2R&index=76',\n",
       "  'content_title': '히밥님...재료가 다 떨어졌어요...',\n",
       "  'creator': '승우아빠',\n",
       "  'creator_url': 'https://www.youtube.com/c/%EC%8A%B9%EC%9A%B0%EC%95%84%EB%B9%A0'},\n",
       " {'rank': '77',\n",
       "  'content_url': 'https://www.youtube.com/watch?v=aRcsKLIKVY0&list=PLmtapKaZsgZt3g_uAPJbsMWdkVsznn_2R&index=77',\n",
       "  'content_title': \"입덕인터뷰｜브레이브걸스(BraveGirls), 1위는 국군장병 덕…'창피해서 눈물 참은 용형 썰까지'\",\n",
       "  'creator': '입덕도우미',\n",
       "  'creator_url': 'https://www.youtube.com/channel/UC9ZnagnOHiJCluKxYAwOKGA'},\n",
       " {'rank': '78',\n",
       "  'content_url': 'https://www.youtube.com/watch?v=_rmtigLkg8w&list=PLmtapKaZsgZt3g_uAPJbsMWdkVsznn_2R&index=78',\n",
       "  'content_title': '\"김블루가 마음을 움직일 수 있을까? 듀근듀근\" 일리 있는 밤🌙시즌3',\n",
       "  'creator': '[에일리 OFFICIAL] aileemusic',\n",
       "  'creator_url': 'https://www.youtube.com/channel/UCymeXjTfl8hMGN7M357oX3g'},\n",
       " {'rank': '79',\n",
       "  'content_url': 'https://www.youtube.com/watch?v=-dD39aO6HWc&list=PLmtapKaZsgZt3g_uAPJbsMWdkVsznn_2R&index=79',\n",
       "  'content_title': '모든 음식을 맵게 느끼게 하는 약 몰카 ㅋㅋㅋㅋ',\n",
       "  'creator': '공대생 변승주 DS',\n",
       "  'creator_url': 'https://www.youtube.com/c/%EA%B3%B5%EB%8C%80%EC%83%9D%EC%A3%BC%EC%A3%BC'},\n",
       " {'rank': '80',\n",
       "  'content_url': 'https://www.youtube.com/watch?v=GwJy4wJVUR4&list=PLmtapKaZsgZt3g_uAPJbsMWdkVsznn_2R&index=80',\n",
       "  'content_title': '(EN/JP) 슈퍼주니어 만나러 SM 갔다가 수만좌에게 들은 충격적인 말ㅋㅋㅋ #슈퍼주니어 1탄 ㅣ 시즌비시즌 ep.28',\n",
       "  'creator': '시즌비시즌 Season B Season',\n",
       "  'creator_url': 'https://www.youtube.com/c/SeasonBSeason'},\n",
       " {'rank': '81',\n",
       "  'content_url': 'https://www.youtube.com/watch?v=KyOSW1bNvk4&list=PLmtapKaZsgZt3g_uAPJbsMWdkVsznn_2R&index=81',\n",
       "  'content_title': '김해준 잘생겼다 생각하는 사람 들어오세요 I [찐한친구💋] ep.2.5 비하인드',\n",
       "  'creator': '겟TV',\n",
       "  'creator_url': 'https://www.youtube.com/c/%EA%B2%9FTV'},\n",
       " {'rank': '82',\n",
       "  'content_url': 'https://www.youtube.com/watch?v=vzlltoQe98E&list=PLmtapKaZsgZt3g_uAPJbsMWdkVsznn_2R&index=82',\n",
       "  'content_title': '[라디오스타] 전보다 더 강력해진 마라 맛 입담..!!😮🔥 엄마가 되어 돌아온 사유리의 근황 토크 | #사유리 #엠뚜루마뚜루 MBC210317방송',\n",
       "  'creator': '엠뚜루마뚜루 : MBC 공식 종합 채널',\n",
       "  'creator_url': 'https://www.youtube.com/channel/UCiwQRG2sCcfjKkgxMEdJGPg'},\n",
       " {'rank': '83',\n",
       "  'content_url': 'https://www.youtube.com/watch?v=VXssRt2U0K4&list=PLmtapKaZsgZt3g_uAPJbsMWdkVsznn_2R&index=83',\n",
       "  'content_title': '[선공개] 본투비 아이돌 로제(ROSÉ)x혜리(HYERI)의 댄스 퍼포먼스💃🏻 아는 형님(Knowing bros) 272회',\n",
       "  'creator': '아는형님 Knowingbros',\n",
       "  'creator_url': 'https://www.youtube.com/c/Knowingbros'},\n",
       " {'rank': '84',\n",
       "  'content_url': 'https://www.youtube.com/watch?v=_Fdxp_bw0H4&list=PLmtapKaZsgZt3g_uAPJbsMWdkVsznn_2R&index=84',\n",
       "  'content_title': \"'포스코-미얀마 군부 자금줄' 실체 속속 드러나 (2021.03.18/뉴스데스크/포항MBC)\",\n",
       "  'creator': '포항MBC NEWS',\n",
       "  'creator_url': 'https://www.youtube.com/channel/UCdcyo5bb--gqMzT95Yu1eXw'},\n",
       " {'rank': '85',\n",
       "  'content_url': 'https://www.youtube.com/watch?v=aiVbErYsDME&list=PLmtapKaZsgZt3g_uAPJbsMWdkVsznn_2R&index=85',\n",
       "  'content_title': '[#빈센조] \"바벨의 진짜 보스. 알아냈어요..\" 송중기VS옥택연 서로의 실체 파악 완료🔥 전면전의 헬게이트가 열렸다.. | #갓구운클립 #Diggle',\n",
       "  'creator': 'tvN D ENT',\n",
       "  'creator_url': 'https://www.youtube.com/user/oSNLKOREAo'},\n",
       " {'rank': '86',\n",
       "  'content_url': 'https://www.youtube.com/watch?v=MoL_hSoUimQ&list=PLmtapKaZsgZt3g_uAPJbsMWdkVsznn_2R&index=86',\n",
       "  'content_title': '[#습핫습핫] 하윤철은 은별이와 로나의 아빠였....🤯 | 펜트하우스2(Penthouse2) | SBS DRAMA',\n",
       "  'creator': 'SBS Drama',\n",
       "  'creator_url': 'https://www.youtube.com/c/DramaSBS'},\n",
       " {'rank': '87',\n",
       "  'content_url': 'https://www.youtube.com/watch?v=MtZ796uAV8U&list=PLmtapKaZsgZt3g_uAPJbsMWdkVsznn_2R&index=87',\n",
       "  'content_title': '\"뭐든지\" 엄마가 다 해주는 마마보이의 최후! [사연툰]',\n",
       "  'creator': '램찌툰',\n",
       "  'creator_url': 'https://www.youtube.com/channel/UCU9_ebZ3cHzknWeL9TwOr6A'},\n",
       " {'rank': '88',\n",
       "  'content_url': 'https://www.youtube.com/watch?v=_d7OqeVAkp4&list=PLmtapKaZsgZt3g_uAPJbsMWdkVsznn_2R&index=88',\n",
       "  'content_title': '지수가 디자인한 카러플을 만나봐! [카러플x블랙핑크 지수x라인프렌즈]',\n",
       "  'creator': '카트라이더 러쉬플러스',\n",
       "  'creator_url': 'https://www.youtube.com/channel/UC8SSlsksPjkK4HEbWDdq2nA'},\n",
       " {'rank': '89',\n",
       "  'content_url': 'https://www.youtube.com/watch?v=AKwXXHdPQ68&list=PLmtapKaZsgZt3g_uAPJbsMWdkVsznn_2R&index=89',\n",
       "  'content_title': '한층 업그레이드 된 경기력! 두번째 경기 골든일레븐 vs 문래중',\n",
       "  'creator': 'GoAle',\n",
       "  'creator_url': 'https://www.youtube.com/c/GoAle'},\n",
       " {'rank': '90',\n",
       "  'content_url': 'https://www.youtube.com/watch?v=YSQh4Ovvd-o&list=PLmtapKaZsgZt3g_uAPJbsMWdkVsznn_2R&index=90',\n",
       "  'content_title': \"브레이브걸스가 뽑은 최고의 해병대 롤린좌는? (※깜짝 공지 있음) 브레이브걸스 롤린 역주행 특집 Ep.2 (BRAVEGIRLS Rollin') [ENG]\",\n",
       "  'creator': '나돌_NADOL',\n",
       "  'creator_url': 'https://www.youtube.com/c/%EB%82%98%EB%8F%8C'},\n",
       " {'rank': '91',\n",
       "  'content_url': 'https://www.youtube.com/watch?v=FEyRgOJyjZA&list=PLmtapKaZsgZt3g_uAPJbsMWdkVsznn_2R&index=91',\n",
       "  'content_title': \"브레이브 걸스 / 위문열차 철파엠 편!! 단결!!\\U0001fa96Rollin' (롤린) 댄스 feat. ㄹㅇ예비군[4K]\",\n",
       "  'creator': '[철파엠] 김영철의 파워FM 공식계정',\n",
       "  'creator_url': 'https://www.youtube.com/channel/UCnWCV3SNQnrrOcABwLJd28A'},\n",
       " {'rank': '92',\n",
       "  'content_url': 'https://www.youtube.com/watch?v=a3N22oqLa20&list=PLmtapKaZsgZt3g_uAPJbsMWdkVsznn_2R&index=92',\n",
       "  'content_title': '[현장속으로] “우리도 미얀마 민주화를 지지합니다!” / KBS 2021.03.18.',\n",
       "  'creator': 'KBS뉴스 경남',\n",
       "  'creator_url': 'https://www.youtube.com/c/KBS%EB%89%B4%EC%8A%A4%EA%B2%BD%EB%82%A8'},\n",
       " {'rank': '93',\n",
       "  'content_url': 'https://www.youtube.com/watch?v=i06C-LJAnq8&list=PLmtapKaZsgZt3g_uAPJbsMWdkVsznn_2R&index=93',\n",
       "  'content_title': '뫼비우스의 군생활 [기묘함 속으로]',\n",
       "  'creator': '총몇명',\n",
       "  'creator_url': 'https://www.youtube.com/channel/UCRuSxVu4iqTK5kCh90ntAgA'},\n",
       " {'rank': '94',\n",
       "  'content_url': 'https://www.youtube.com/watch?v=_3B2qRrEazY&list=PLmtapKaZsgZt3g_uAPJbsMWdkVsznn_2R&index=94',\n",
       "  'content_title': '소금에 절일 필요없는 쪽파 김치 이것넣고? 꿀맛 완전 보장',\n",
       "  'creator': '주부나라',\n",
       "  'creator_url': 'https://www.youtube.com/channel/UCzIOIStANWRgYa3BRuJOg8Q'},\n",
       " {'rank': '95',\n",
       "  'content_url': 'https://www.youtube.com/watch?v=yhRjuaIJ-JM&list=PLmtapKaZsgZt3g_uAPJbsMWdkVsznn_2R&index=95',\n",
       "  'content_title': '코빅 어벤져스 하준수&최우선 vs 유병재 웃음참기 배틀 [웃지모텔 - 웃지 못하는 모텔 EP2]',\n",
       "  'creator': '유병재',\n",
       "  'creator_url': 'https://www.youtube.com/c/dbqudwo333'},\n",
       " {'rank': '96',\n",
       "  'content_url': 'https://www.youtube.com/watch?v=ZS54m8N-yfE&list=PLmtapKaZsgZt3g_uAPJbsMWdkVsznn_2R&index=96',\n",
       "  'content_title': '사장님한테 *직접 만든* 초콜릿 선물한 날',\n",
       "  'creator': '또니 DDony',\n",
       "  'creator_url': 'https://www.youtube.com/channel/UChrvBh3aHoZ2te8aRdIfP2A'},\n",
       " {'rank': '97',\n",
       "  'content_url': 'https://www.youtube.com/watch?v=yHzHeRAcccE&list=PLmtapKaZsgZt3g_uAPJbsMWdkVsznn_2R&index=97',\n",
       "  'content_title': '원정 와서 트럭째 조개 싹쓸이…지역 어민들 분통 / KBS 2021.03.22.',\n",
       "  'creator': 'KBS News',\n",
       "  'creator_url': 'https://www.youtube.com/c/newskbs'},\n",
       " {'rank': '98',\n",
       "  'content_url': 'https://www.youtube.com/watch?v=PC2UEz2t08Q&list=PLmtapKaZsgZt3g_uAPJbsMWdkVsznn_2R&index=98',\n",
       "  'content_title': 'Brave Girls, Rollin’(브레이브걸스, 롤린) [THE SHOW 210316]',\n",
       "  'creator': 'The K-POP',\n",
       "  'creator_url': 'https://www.youtube.com/c/TheKPOP'},\n",
       " {'rank': '99',\n",
       "  'content_url': 'https://www.youtube.com/watch?v=9Oe4tC86Yro&list=PLmtapKaZsgZt3g_uAPJbsMWdkVsznn_2R&index=99',\n",
       "  'content_title': \"'아 이건 좀...' 슈퍼주니어의 커리어를 리뷰하는 아이들 | ODG\",\n",
       "  'creator': 'odg',\n",
       "  'creator_url': 'https://www.youtube.com/c/ODGkids'},\n",
       " {'rank': '100',\n",
       "  'content_url': 'https://www.youtube.com/watch?v=Nt4b0ZKa6mI&list=PLmtapKaZsgZt3g_uAPJbsMWdkVsznn_2R&index=100',\n",
       "  'content_title': '아이오닉5, 실제로 타보면!!',\n",
       "  'creator': '모트라인 MOTline',\n",
       "  'creator_url': 'https://www.youtube.com/c/Motline'}]"
      ]
     },
     "execution_count": 5,
     "metadata": {},
     "output_type": "execute_result"
    }
   ],
   "source": [
    "total_contents"
   ]
  },
  {
   "cell_type": "markdown",
   "metadata": {},
   "source": [
    "### 세부 사항 크롤링"
   ]
  },
  {
   "cell_type": "code",
   "execution_count": 6,
   "metadata": {},
   "outputs": [
    {
     "data": {
      "text/plain": [
       "{'rank': '1',\n",
       " 'content_url': 'https://www.youtube.com/watch?v=v7bnOxV4jAc&list=PLmtapKaZsgZt3g_uAPJbsMWdkVsznn_2R&index=1',\n",
       " 'content_title': '[MV] IU(아이유)_LILAC(라일락)',\n",
       " 'creator': '1theK (원더케이)',\n",
       " 'creator_url': 'https://www.youtube.com/c/1theK'}"
      ]
     },
     "execution_count": 6,
     "metadata": {},
     "output_type": "execute_result"
    }
   ],
   "source": [
    "content = total_contents[0]\n",
    "content"
   ]
  },
  {
   "cell_type": "code",
   "execution_count": 9,
   "metadata": {},
   "outputs": [],
   "source": [
    "driver.get(content[\"content_url\"])\n",
    "tag = driver.find_element_by_css_selector(\"#movie_player > div.html5-video-container > video\")\n",
    "tag.click()\n",
    "\n",
    "button = driver.find_element_by_css_selector(\"#more\")\n",
    "button.click()\n",
    "\n",
    "driver.execute_script('window.scrollTo(0, 1000);')\n",
    "driver.implicitly_wait(2)"
   ]
  },
  {
   "cell_type": "code",
   "execution_count": 10,
   "metadata": {},
   "outputs": [],
   "source": [
    "views = driver.find_element_by_css_selector(\"#count > ytd-video-view-count-renderer > span.view-count.style-scope.ytd-video-view-count-renderer\").text\n",
    "date = driver.find_element_by_css_selector(\"#date > yt-formatted-string\").text\n",
    "good = driver.find_element_by_css_selector(\"#top-level-buttons > ytd-toggle-button-renderer:nth-child(1) > a\").find_element_by_css_selector(\"#text\").text\n",
    "bad = driver.find_element_by_css_selector(\"#top-level-buttons > ytd-toggle-button-renderer:nth-child(2) > a\").find_element_by_css_selector(\"#text\").text\n",
    "comments = driver.find_element_by_css_selector(\"#count > yt-formatted-string > span:nth-child(2)\").text"
   ]
  },
  {
   "cell_type": "code",
   "execution_count": 12,
   "metadata": {},
   "outputs": [],
   "source": [
    "description = driver.find_element_by_css_selector(\"#description\")\n",
    "hashlist = description.find_elements_by_css_selector(\"a\")\n",
    "texts = description.find_elements_by_css_selector(\"span\")\n",
    "\n",
    "hashtags = [tag.text for tag in hashlist if tag.text not in (\"\", \" \")]        \n",
    "descriptions = [span.text for span in texts if span.text not in (\" \", \"\")]"
   ]
  },
  {
   "cell_type": "code",
   "execution_count": 11,
   "metadata": {},
   "outputs": [
    {
     "data": {
      "text/plain": [
       "('조회수 6,929,992회', '2021. 3. 25.', '76만', '7.7천', '44,504')"
      ]
     },
     "execution_count": 11,
     "metadata": {},
     "output_type": "execute_result"
    }
   ],
   "source": [
    "views, date, good, bad, comments"
   ]
  },
  {
   "cell_type": "code",
   "execution_count": 13,
   "metadata": {
    "collapsed": true
   },
   "outputs": [
    {
     "data": {
      "text/plain": [
       "['https://www.youtube.com/1theKOriginals',\n",
       " '#NEWRELEASE',\n",
       " '#MV',\n",
       " '#1theK',\n",
       " '#원더케이',\n",
       " 'https://www.youtube.com/1theK',\n",
       " 'http://www.facebook.com/1theK',\n",
       " 'https://twitter.com/1theK',\n",
       " 'https://goo.gl/otRpZc',\n",
       " 'https://vt.tiktok.com/2mSMBS']"
      ]
     },
     "execution_count": 13,
     "metadata": {},
     "output_type": "execute_result"
    }
   ],
   "source": [
    "hashtags"
   ]
  },
  {
   "cell_type": "code",
   "execution_count": 14,
   "metadata": {
    "collapsed": true
   },
   "outputs": [
    {
     "data": {
      "text/plain": [
       "['[MV] IU(아이유)_LILAC(라일락)\\n\\n\\nK-POP Wonderland, 1theK\\n\\nK-POP의 모든 즐거움을 1theK(원더케이)에서 만나보세요! :)\\nWelcome to the official YouTube channel of K-POP Wonderland, 1theK\\n\\n\"\"1theK Originals\"\" Subscribe 👉 ',\n",
       " '[Notice] 1theK YouTube is also an official channel for the MV, and music shows will count the views from this channel too.\\n[공지] 1theK YouTube는 MV를 유통하는 공식 채널로, 1theK에 업로드된 MV 조회수 또한 음악방송 순위에 반영됩니다.',\n",
       " '▶1theK YT : ',\n",
       " '▶1theK FB  : ',\n",
       " '▶1theK TW : ',\n",
       " '▶1theK Kakao : ',\n",
       " '▶1theK TikTok : ',\n",
       " '\"']"
      ]
     },
     "execution_count": 14,
     "metadata": {},
     "output_type": "execute_result"
    }
   ],
   "source": [
    "descriptions"
   ]
  },
  {
   "cell_type": "code",
   "execution_count": 1,
   "metadata": {},
   "outputs": [],
   "source": [
    "import re\n",
    "\n",
    "def str_to_int(string : str):\n",
    "    value = 0\n",
    "    if '만' in string:\n",
    "        value = float(re.findall('\\d+\\.*\\d*', string)[0])\n",
    "        value *= 10000\n",
    "    elif '천' in string:\n",
    "        value = float(re.findall('\\d+\\.*\\d*', string)[0])\n",
    "        value *= 1000\n",
    "    else:\n",
    "        tmp = re.findall('\\d+\\.*\\d*', string)\n",
    "        if len(tmp) == 0:\n",
    "            value = 0\n",
    "        else:\n",
    "            value = float(tmp[0])\n",
    "        \n",
    "    return int(value)"
   ]
  },
  {
   "cell_type": "code",
   "execution_count": 14,
   "metadata": {},
   "outputs": [],
   "source": [
    "def crawl_detail_content(, data : dict) -> dict:\n",
    "    \n",
    "    if data == None:\n",
    "        data = {}\n",
    "    \n",
    "    # go to content detail page\n",
    "    driver.get(content[\"content_url\"])\n",
    "    tag = driver.find_element_by_css_selector(\"#movie_player > div.html5-video-container > video\")\n",
    "    tag.click()\n",
    "    \n",
    "    try:\n",
    "        button = driver.find_element_by_css_selector(\"paper-button#more\")\n",
    "        button.click()\n",
    "    except:\n",
    "        pass\n",
    "\n",
    "    driver.execute_script('window.scrollTo(0, 1500);')\n",
    "    driver.implicitly_wait(10)\n",
    "    \n",
    "    # get detail information of content\n",
    "    views = driver.find_element_by_css_selector(\"#count > ytd-video-view-count-renderer > span.view-count.style-scope.ytd-video-view-count-renderer\").text.replace(\",\", \"\")\n",
    "    views = re.findall('\\d+', views)[0]\n",
    "    date = driver.find_element_by_css_selector(\"#date > yt-formatted-string\").text.replace(\".\", \"\").split()\n",
    "    date = f\"{date[0]}-{date[1]}-{date[2]}\"\n",
    "    good = driver.find_element_by_css_selector(\"#top-level-buttons > ytd-toggle-button-renderer:nth-child(1) > a\").find_element_by_css_selector(\"#text\").text\n",
    "    \n",
    "    bad = driver.find_element_by_css_selector(\"#top-level-buttons > ytd-toggle-button-renderer:nth-child(2) > a\").find_element_by_css_selector(\"#text\").text\n",
    "    try:\n",
    "        comments = driver.find_element_by_css_selector(\"#count > yt-formatted-string > span:nth-child(2)\").text\n",
    "        comments = int(comments.replace(\",\", \"\"))\n",
    "    except:\n",
    "        comments = -1\n",
    "    time.sleep(2)\n",
    "    # get content description and hashtags\n",
    "    description = driver.find_element_by_css_selector(\"#description\")\n",
    "    hashlist = description.find_elements_by_css_selector(\"a\")\n",
    "    texts = description.find_elements_by_css_selector(\"span\")\n",
    "    hashtags = [tag.text for tag in hashlist if tag.text not in (\"\", \" \") and tag.text.startswith(\"#\")]        \n",
    "    descriptions = [span.text for span in texts if span.text not in (\" \", \"\")]\n",
    "    \n",
    "    # append detail data\n",
    "    data.update(\n",
    "        {\n",
    "            \"views\" : views,\n",
    "            \"date\" : date,\n",
    "            \"good\" : str_to_int(good),\n",
    "            \"bad\" : str_to_int(bad),\n",
    "            \"comment\" : comments,\n",
    "            \"hashtags\" : hashtags,\n",
    "            \"description\" : descriptions\n",
    "        }\n",
    "    )\n",
    "    \n",
    "    print(data)\n",
    "    \n",
    "    return data\n",
    "    "
   ]
  },
  {
   "cell_type": "markdown",
   "metadata": {},
   "source": [
    "### 전체 크롤링"
   ]
  },
  {
   "cell_type": "code",
   "execution_count": 19,
   "metadata": {},
   "outputs": [
    {
     "name": "stdout",
     "output_type": "stream",
     "text": [
      "Collecting fake_useragent\n",
      "  Downloading https://files.pythonhosted.org/packages/d1/79/af647635d6968e2deb57a208d309f6069d31cb138066d7e821e575112a80/fake-useragent-0.1.11.tar.gz\n",
      "Building wheels for collected packages: fake-useragent\n",
      "  Building wheel for fake-useragent (setup.py): started\n",
      "  Building wheel for fake-useragent (setup.py): finished with status 'done'\n",
      "  Created wheel for fake-useragent: filename=fake_useragent-0.1.11-cp37-none-any.whl size=13490 sha256=aed6c067c3ec92b3decbf7adc28b2604a975379951fe9859b71b423c095d08f4\n",
      "  Stored in directory: C:\\Users\\seungsu\\AppData\\Local\\pip\\Cache\\wheels\\5e\\63\\09\\d1dc15179f175357d3f5c00cbffbac37f9e8690d80545143ff\n",
      "Successfully built fake-useragent\n",
      "Installing collected packages: fake-useragent\n",
      "Successfully installed fake-useragent-0.1.11\n"
     ]
    }
   ],
   "source": [
    "!pip install fake_useragent"
   ]
  },
  {
   "cell_type": "code",
   "execution_count": 20,
   "metadata": {},
   "outputs": [],
   "source": [
    "from selenium import webdriver\n",
    "from selenium.webdriver.common.keys import Keys\n",
    "import time\n",
    "from tqdm import tqdm\n",
    "from fake_useragent import UserAgent"
   ]
  },
  {
   "cell_type": "code",
   "execution_count": 21,
   "metadata": {},
   "outputs": [
    {
     "name": "stdout",
     "output_type": "stream",
     "text": [
      "total data : 200\n"
     ]
    },
    {
     "name": "stderr",
     "output_type": "stream",
     "text": [
      "\n",
      "\n",
      "  0%|                                                                                          | 0/200 [00:00<?, ?it/s]\n",
      "\n",
      "  0%|▍                                                                                 | 1/200 [00:00<00:21,  9.37it/s]\n",
      "\n",
      "  1%|▊                                                                                 | 2/200 [00:00<00:21,  9.25it/s]\n",
      "\n",
      "  2%|█▏                                                                                | 3/200 [00:00<00:21,  9.33it/s]\n",
      "\n",
      "  2%|█▋                                                                                | 4/200 [00:00<00:20,  9.35it/s]\n",
      "\n",
      "  2%|██                                                                                | 5/200 [00:00<00:21,  9.26it/s]\n",
      "\n",
      "  3%|██▍                                                                               | 6/200 [00:00<00:20,  9.35it/s]\n",
      "\n",
      "  4%|██▊                                                                               | 7/200 [00:00<00:20,  9.36it/s]\n",
      "\n",
      "  4%|███▎                                                                              | 8/200 [00:00<00:20,  9.44it/s]\n",
      "\n",
      "  4%|███▋                                                                              | 9/200 [00:00<00:20,  9.23it/s]\n",
      "\n",
      "  5%|████                                                                             | 10/200 [00:01<00:20,  9.23it/s]\n",
      "\n",
      "  6%|████▍                                                                            | 11/200 [00:01<00:20,  9.25it/s]\n",
      "\n",
      "  6%|████▊                                                                            | 12/200 [00:01<00:20,  9.21it/s]\n",
      "\n",
      "  6%|█████▎                                                                           | 13/200 [00:01<00:20,  9.26it/s]\n",
      "\n",
      "  7%|█████▋                                                                           | 14/200 [00:01<00:20,  9.22it/s]\n",
      "\n",
      "  8%|██████                                                                           | 15/200 [00:01<00:20,  9.01it/s]\n",
      "\n",
      "  8%|██████▍                                                                          | 16/200 [00:01<00:21,  8.65it/s]\n",
      "\n",
      "  8%|██████▉                                                                          | 17/200 [00:01<00:21,  8.69it/s]\n",
      "\n",
      "  9%|███████▎                                                                         | 18/200 [00:02<00:22,  8.00it/s]\n",
      "\n",
      " 10%|███████▋                                                                         | 19/200 [00:02<00:21,  8.42it/s]\n",
      "\n",
      " 10%|████████                                                                         | 20/200 [00:02<00:20,  8.72it/s]\n",
      "\n",
      " 10%|████████▌                                                                        | 21/200 [00:02<00:20,  8.78it/s]\n",
      "\n",
      " 11%|████████▉                                                                        | 22/200 [00:02<00:23,  7.70it/s]\n",
      "\n",
      " 12%|█████████▋                                                                       | 24/200 [00:02<00:22,  7.95it/s]\n",
      "\n",
      " 12%|██████████▏                                                                      | 25/200 [00:02<00:24,  7.11it/s]\n",
      "\n",
      " 13%|██████████▌                                                                      | 26/200 [00:03<00:23,  7.49it/s]\n",
      "\n",
      " 14%|██████████▉                                                                      | 27/200 [00:03<00:21,  7.93it/s]\n",
      "\n",
      " 14%|███████████▎                                                                     | 28/200 [00:03<00:21,  8.10it/s]\n",
      "\n",
      " 14%|███████████▋                                                                     | 29/200 [00:03<00:20,  8.46it/s]\n",
      "\n",
      " 15%|████████████▏                                                                    | 30/200 [00:03<00:19,  8.64it/s]\n",
      "\n",
      " 16%|████████████▌                                                                    | 31/200 [00:03<00:23,  7.15it/s]\n",
      "\n",
      " 16%|████████████▉                                                                    | 32/200 [00:03<00:23,  7.07it/s]\n",
      "\n",
      " 16%|█████████████▎                                                                   | 33/200 [00:03<00:22,  7.39it/s]\n",
      "\n",
      " 17%|█████████████▊                                                                   | 34/200 [00:04<00:22,  7.36it/s]\n",
      "\n",
      " 18%|██████████████▏                                                                  | 35/200 [00:04<00:21,  7.65it/s]\n",
      "\n",
      " 18%|██████████████▌                                                                  | 36/200 [00:04<00:20,  7.92it/s]\n",
      "\n",
      " 18%|██████████████▉                                                                  | 37/200 [00:04<00:20,  7.81it/s]\n",
      "\n",
      " 19%|███████████████▍                                                                 | 38/200 [00:04<00:20,  7.78it/s]\n",
      "\n",
      " 20%|███████████████▊                                                                 | 39/200 [00:04<00:20,  7.83it/s]\n",
      "\n",
      " 20%|████████████████▏                                                                | 40/200 [00:04<00:20,  7.77it/s]\n",
      "\n",
      " 20%|████████████████▌                                                                | 41/200 [00:04<00:22,  7.10it/s]\n",
      "\n",
      " 21%|█████████████████                                                                | 42/200 [00:05<00:21,  7.35it/s]\n",
      "\n",
      " 22%|█████████████████▍                                                               | 43/200 [00:05<00:20,  7.48it/s]\n",
      "\n",
      " 22%|█████████████████▊                                                               | 44/200 [00:05<00:20,  7.76it/s]\n",
      "\n",
      " 22%|██████████████████▏                                                              | 45/200 [00:05<00:19,  7.96it/s]\n",
      "\n",
      " 23%|██████████████████▋                                                              | 46/200 [00:05<00:18,  8.15it/s]\n",
      "\n",
      " 24%|███████████████████                                                              | 47/200 [00:05<00:18,  8.18it/s]\n",
      "\n",
      " 24%|███████████████████▍                                                             | 48/200 [00:05<00:18,  8.17it/s]\n",
      "\n",
      " 24%|███████████████████▊                                                             | 49/200 [00:05<00:18,  8.11it/s]\n",
      "\n",
      " 25%|████████████████████▎                                                            | 50/200 [00:06<00:18,  8.10it/s]\n",
      "\n",
      " 26%|████████████████████▋                                                            | 51/200 [00:06<00:18,  8.15it/s]\n",
      "\n",
      " 26%|█████████████████████                                                            | 52/200 [00:06<00:18,  8.12it/s]\n",
      "\n",
      " 26%|█████████████████████▍                                                           | 53/200 [00:06<00:18,  8.01it/s]\n",
      "\n",
      " 27%|█████████████████████▊                                                           | 54/200 [00:06<00:18,  8.10it/s]\n",
      "\n",
      " 28%|██████████████████████▎                                                          | 55/200 [00:06<00:17,  8.15it/s]\n",
      "\n",
      " 28%|██████████████████████▋                                                          | 56/200 [00:06<00:17,  8.16it/s]\n",
      "\n",
      " 28%|███████████████████████                                                          | 57/200 [00:06<00:17,  7.98it/s]\n",
      "\n",
      " 29%|███████████████████████▍                                                         | 58/200 [00:07<00:17,  8.04it/s]\n",
      "\n",
      " 30%|███████████████████████▉                                                         | 59/200 [00:07<00:17,  8.17it/s]\n",
      "\n",
      " 30%|████████████████████████▎                                                        | 60/200 [00:07<00:17,  8.20it/s]\n",
      "\n",
      " 30%|████████████████████████▋                                                        | 61/200 [00:07<00:17,  8.18it/s]\n",
      "\n",
      " 31%|█████████████████████████                                                        | 62/200 [00:07<00:16,  8.12it/s]\n",
      "\n",
      " 32%|█████████████████████████▌                                                       | 63/200 [00:07<00:17,  8.03it/s]\n",
      "\n",
      " 32%|█████████████████████████▉                                                       | 64/200 [00:07<00:16,  8.10it/s]\n",
      "\n",
      " 32%|██████████████████████████▎                                                      | 65/200 [00:07<00:17,  7.90it/s]\n",
      "\n",
      " 33%|██████████████████████████▋                                                      | 66/200 [00:08<00:16,  7.96it/s]\n",
      "\n",
      " 34%|███████████████████████████▏                                                     | 67/200 [00:08<00:17,  7.75it/s]\n",
      "\n",
      " 34%|███████████████████████████▌                                                     | 68/200 [00:08<00:16,  7.83it/s]\n",
      "\n",
      " 34%|███████████████████████████▉                                                     | 69/200 [00:08<00:16,  7.84it/s]\n",
      "\n",
      " 35%|████████████████████████████▎                                                    | 70/200 [00:08<00:16,  7.81it/s]\n",
      "\n",
      " 36%|████████████████████████████▊                                                    | 71/200 [00:08<00:16,  8.01it/s]\n",
      "\n",
      " 36%|█████████████████████████████▏                                                   | 72/200 [00:08<00:15,  8.41it/s]\n",
      "\n",
      " 36%|█████████████████████████████▌                                                   | 73/200 [00:08<00:14,  8.52it/s]\n",
      "\n",
      " 37%|█████████████████████████████▉                                                   | 74/200 [00:09<00:14,  8.72it/s]\n",
      "\n",
      " 38%|██████████████████████████████▍                                                  | 75/200 [00:09<00:14,  8.88it/s]\n",
      "\n",
      " 38%|██████████████████████████████▊                                                  | 76/200 [00:09<00:13,  9.00it/s]\n",
      "\n",
      " 38%|███████████████████████████████▏                                                 | 77/200 [00:09<00:13,  9.10it/s]\n",
      "\n",
      " 39%|███████████████████████████████▌                                                 | 78/200 [00:09<00:13,  8.94it/s]\n",
      "\n",
      " 40%|███████████████████████████████▉                                                 | 79/200 [00:09<00:13,  8.89it/s]\n",
      "\n",
      " 40%|████████████████████████████████▍                                                | 80/200 [00:09<00:14,  8.41it/s]\n",
      "\n",
      " 40%|████████████████████████████████▊                                                | 81/200 [00:09<00:14,  8.28it/s]\n",
      "\n",
      " 41%|█████████████████████████████████▏                                               | 82/200 [00:09<00:14,  8.12it/s]\n",
      "\n",
      " 42%|█████████████████████████████████▌                                               | 83/200 [00:10<00:14,  8.33it/s]\n",
      "\n",
      " 42%|██████████████████████████████████                                               | 84/200 [00:10<00:13,  8.58it/s]\n",
      "\n",
      " 42%|██████████████████████████████████▍                                              | 85/200 [00:10<00:13,  8.80it/s]\n",
      "\n",
      " 43%|██████████████████████████████████▊                                              | 86/200 [00:10<00:12,  8.85it/s]\n",
      "\n",
      " 44%|███████████████████████████████████▏                                             | 87/200 [00:10<00:12,  8.92it/s]\n",
      "\n",
      " 44%|███████████████████████████████████▋                                             | 88/200 [00:10<00:12,  8.99it/s]\n",
      "\n",
      " 44%|████████████████████████████████████                                             | 89/200 [00:10<00:12,  9.06it/s]\n",
      "\n",
      " 45%|████████████████████████████████████▍                                            | 90/200 [00:10<00:12,  9.09it/s]\n",
      "\n",
      " 46%|████████████████████████████████████▊                                            | 91/200 [00:10<00:12,  9.02it/s]\n",
      "\n",
      " 46%|█████████████████████████████████████▎                                           | 92/200 [00:11<00:12,  9.00it/s]\n",
      "\n",
      " 46%|█████████████████████████████████████▋                                           | 93/200 [00:11<00:11,  8.97it/s]\n",
      "\n",
      " 47%|██████████████████████████████████████                                           | 94/200 [00:11<00:11,  9.01it/s]\n",
      "\n",
      " 48%|██████████████████████████████████████▍                                          | 95/200 [00:11<00:11,  9.02it/s]\n",
      "\n",
      " 48%|██████████████████████████████████████▉                                          | 96/200 [00:11<00:11,  8.89it/s]\n",
      "\n",
      " 48%|███████████████████████████████████████▎                                         | 97/200 [00:11<00:11,  8.71it/s]\n",
      "\n",
      " 49%|███████████████████████████████████████▋                                         | 98/200 [00:11<00:12,  8.39it/s]\n",
      "\n",
      " 50%|████████████████████████████████████████                                         | 99/200 [00:11<00:12,  8.33it/s]\n",
      "\n",
      " 50%|████████████████████████████████████████                                        | 100/200 [00:12<00:11,  8.49it/s]\n",
      "\n",
      " 50%|████████████████████████████████████████▍                                       | 101/200 [00:12<00:11,  8.46it/s]\n",
      "\n",
      " 51%|████████████████████████████████████████▊                                       | 102/200 [00:12<00:12,  7.61it/s]\n",
      "\n",
      " 52%|█████████████████████████████████████████▏                                      | 103/200 [00:12<00:14,  6.69it/s]\n",
      "\n",
      " 52%|█████████████████████████████████████████▌                                      | 104/200 [00:12<00:14,  6.43it/s]\n",
      "\n",
      " 52%|██████████████████████████████████████████                                      | 105/200 [00:12<00:14,  6.62it/s]\n",
      "\n",
      " 53%|██████████████████████████████████████████▍                                     | 106/200 [00:12<00:13,  6.73it/s]\n",
      "\n",
      " 54%|██████████████████████████████████████████▊                                     | 107/200 [00:13<00:13,  7.12it/s]\n",
      "\n",
      " 54%|███████████████████████████████████████████▏                                    | 108/200 [00:13<00:12,  7.30it/s]\n",
      "\n",
      " 55%|███████████████████████████████████████████▌                                    | 109/200 [00:13<00:12,  7.42it/s]\n",
      "\n",
      " 55%|████████████████████████████████████████████                                    | 110/200 [00:13<00:11,  7.69it/s]\n",
      "\n",
      " 56%|████████████████████████████████████████████▍                                   | 111/200 [00:13<00:11,  7.56it/s]\n",
      "\n",
      " 56%|████████████████████████████████████████████▊                                   | 112/200 [00:13<00:11,  7.58it/s]\n",
      "\n",
      " 56%|█████████████████████████████████████████████▏                                  | 113/200 [00:13<00:11,  7.75it/s]\n",
      "\n",
      " 57%|█████████████████████████████████████████████▌                                  | 114/200 [00:13<00:10,  7.90it/s]\n",
      "\n",
      " 57%|██████████████████████████████████████████████                                  | 115/200 [00:14<00:10,  8.11it/s]\n",
      "\n",
      " 58%|██████████████████████████████████████████████▍                                 | 116/200 [00:14<00:10,  8.28it/s]\n",
      "\n",
      " 58%|██████████████████████████████████████████████▊                                 | 117/200 [00:14<00:10,  8.19it/s]\n",
      "\n",
      " 59%|███████████████████████████████████████████████▏                                | 118/200 [00:14<00:11,  7.41it/s]\n",
      "\n",
      " 60%|███████████████████████████████████████████████▌                                | 119/200 [00:14<00:11,  6.88it/s]\n",
      "\n",
      " 60%|████████████████████████████████████████████████                                | 120/200 [00:14<00:11,  7.12it/s]\n",
      "\n",
      " 60%|████████████████████████████████████████████████▍                               | 121/200 [00:14<00:11,  6.88it/s]\n",
      "\n",
      " 61%|████████████████████████████████████████████████▊                               | 122/200 [00:15<00:11,  6.88it/s]\n",
      "\n",
      " 62%|█████████████████████████████████████████████████▏                              | 123/200 [00:15<00:10,  7.30it/s]\n",
      "\n",
      " 62%|█████████████████████████████████████████████████▌                              | 124/200 [00:15<00:10,  7.58it/s]\n",
      "\n",
      " 62%|██████████████████████████████████████████████████                              | 125/200 [00:15<00:10,  7.38it/s]\n",
      "\n",
      " 63%|██████████████████████████████████████████████████▍                             | 126/200 [00:15<00:10,  7.35it/s]\n",
      "\n",
      " 64%|██████████████████████████████████████████████████▊                             | 127/200 [00:15<00:09,  7.41it/s]\n",
      "\n",
      " 64%|███████████████████████████████████████████████████▏                            | 128/200 [00:15<00:09,  7.68it/s]\n",
      "\n",
      " 64%|███████████████████████████████████████████████████▌                            | 129/200 [00:15<00:09,  7.65it/s]\n",
      "\n",
      " 65%|████████████████████████████████████████████████████                            | 130/200 [00:16<00:09,  7.57it/s]\n",
      "\n",
      " 66%|████████████████████████████████████████████████████▍                           | 131/200 [00:16<00:08,  7.73it/s]\n",
      "\n",
      " 66%|████████████████████████████████████████████████████▊                           | 132/200 [00:16<00:09,  7.46it/s]\n",
      "\n",
      " 66%|█████████████████████████████████████████████████████▏                          | 133/200 [00:16<00:08,  7.54it/s]\n",
      "\n",
      " 67%|█████████████████████████████████████████████████████▌                          | 134/200 [00:16<00:08,  7.60it/s]\n",
      "\n"
     ]
    },
    {
     "name": "stderr",
     "output_type": "stream",
     "text": [
      " 68%|██████████████████████████████████████████████████████                          | 135/200 [00:16<00:08,  7.49it/s]\n",
      "\n",
      " 68%|██████████████████████████████████████████████████████▍                         | 136/200 [00:16<00:08,  7.67it/s]\n",
      "\n",
      " 68%|██████████████████████████████████████████████████████▊                         | 137/200 [00:17<00:08,  7.47it/s]\n",
      "\n",
      " 69%|███████████████████████████████████████████████████████▏                        | 138/200 [00:17<00:08,  7.54it/s]\n",
      "\n",
      " 70%|███████████████████████████████████████████████████████▌                        | 139/200 [00:17<00:07,  7.78it/s]\n",
      "\n",
      " 70%|████████████████████████████████████████████████████████                        | 140/200 [00:17<00:08,  7.36it/s]\n",
      "\n",
      " 70%|████████████████████████████████████████████████████████▍                       | 141/200 [00:17<00:07,  7.41it/s]\n",
      "\n",
      " 71%|████████████████████████████████████████████████████████▊                       | 142/200 [00:17<00:07,  7.63it/s]\n",
      "\n",
      " 72%|█████████████████████████████████████████████████████████▏                      | 143/200 [00:17<00:07,  7.44it/s]\n",
      "\n",
      " 72%|█████████████████████████████████████████████████████████▌                      | 144/200 [00:17<00:07,  7.33it/s]\n",
      "\n",
      " 72%|██████████████████████████████████████████████████████████                      | 145/200 [00:18<00:07,  7.52it/s]\n",
      "\n",
      " 73%|██████████████████████████████████████████████████████████▍                     | 146/200 [00:18<00:07,  7.57it/s]\n",
      "\n",
      " 74%|██████████████████████████████████████████████████████████▊                     | 147/200 [00:18<00:07,  7.17it/s]\n",
      "\n",
      " 74%|███████████████████████████████████████████████████████████▏                    | 148/200 [00:18<00:07,  7.32it/s]\n",
      "\n",
      " 74%|███████████████████████████████████████████████████████████▌                    | 149/200 [00:18<00:06,  7.46it/s]\n",
      "\n",
      " 75%|████████████████████████████████████████████████████████████                    | 150/200 [00:18<00:06,  7.36it/s]\n",
      "\n",
      " 76%|████████████████████████████████████████████████████████████▍                   | 151/200 [00:18<00:06,  7.14it/s]\n",
      "\n",
      " 76%|████████████████████████████████████████████████████████████▊                   | 152/200 [00:19<00:06,  7.39it/s]\n",
      "\n",
      " 76%|█████████████████████████████████████████████████████████████▏                  | 153/200 [00:19<00:06,  7.26it/s]\n",
      "\n",
      " 77%|█████████████████████████████████████████████████████████████▌                  | 154/200 [00:19<00:06,  7.10it/s]\n",
      "\n",
      " 78%|██████████████████████████████████████████████████████████████                  | 155/200 [00:19<00:06,  7.19it/s]\n",
      "\n",
      " 78%|██████████████████████████████████████████████████████████████▍                 | 156/200 [00:19<00:06,  7.02it/s]\n",
      "\n",
      " 78%|██████████████████████████████████████████████████████████████▊                 | 157/200 [00:19<00:06,  6.89it/s]\n",
      "\n",
      " 79%|███████████████████████████████████████████████████████████████▏                | 158/200 [00:19<00:06,  6.57it/s]\n",
      "\n",
      " 80%|███████████████████████████████████████████████████████████████▌                | 159/200 [00:20<00:06,  6.72it/s]\n",
      "\n",
      " 80%|████████████████████████████████████████████████████████████████                | 160/200 [00:20<00:05,  6.99it/s]\n",
      "\n",
      " 80%|████████████████████████████████████████████████████████████████▍               | 161/200 [00:20<00:05,  6.69it/s]\n",
      "\n",
      " 81%|████████████████████████████████████████████████████████████████▊               | 162/200 [00:20<00:05,  6.84it/s]\n",
      "\n",
      " 82%|█████████████████████████████████████████████████████████████████▏              | 163/200 [00:20<00:05,  7.04it/s]\n",
      "\n",
      " 82%|█████████████████████████████████████████████████████████████████▌              | 164/200 [00:20<00:05,  6.90it/s]\n",
      "\n",
      " 82%|██████████████████████████████████████████████████████████████████              | 165/200 [00:20<00:05,  6.80it/s]\n",
      "\n",
      " 83%|██████████████████████████████████████████████████████████████████▍             | 166/200 [00:21<00:04,  7.01it/s]\n",
      "\n",
      " 84%|██████████████████████████████████████████████████████████████████▊             | 167/200 [00:21<00:04,  6.93it/s]\n",
      "\n",
      " 84%|███████████████████████████████████████████████████████████████████▏            | 168/200 [00:21<00:04,  6.89it/s]\n",
      "\n",
      " 84%|███████████████████████████████████████████████████████████████████▌            | 169/200 [00:21<00:04,  6.96it/s]\n",
      "\n",
      " 85%|████████████████████████████████████████████████████████████████████            | 170/200 [00:21<00:04,  6.94it/s]\n",
      "\n",
      " 86%|████████████████████████████████████████████████████████████████████▍           | 171/200 [00:21<00:04,  7.18it/s]\n",
      "\n",
      " 86%|████████████████████████████████████████████████████████████████████▊           | 172/200 [00:21<00:03,  7.11it/s]\n",
      "\n",
      " 86%|█████████████████████████████████████████████████████████████████████▏          | 173/200 [00:22<00:03,  7.02it/s]\n",
      "\n",
      " 87%|█████████████████████████████████████████████████████████████████████▌          | 174/200 [00:22<00:03,  7.21it/s]\n",
      "\n",
      " 88%|██████████████████████████████████████████████████████████████████████          | 175/200 [00:22<00:03,  7.39it/s]\n",
      "\n",
      " 88%|██████████████████████████████████████████████████████████████████████▍         | 176/200 [00:22<00:03,  7.46it/s]\n",
      "\n",
      " 88%|██████████████████████████████████████████████████████████████████████▊         | 177/200 [00:22<00:03,  7.55it/s]\n",
      "\n",
      " 89%|███████████████████████████████████████████████████████████████████████▏        | 178/200 [00:22<00:03,  7.31it/s]\n",
      "\n",
      " 90%|███████████████████████████████████████████████████████████████████████▌        | 179/200 [00:22<00:02,  7.18it/s]\n",
      "\n",
      " 90%|████████████████████████████████████████████████████████████████████████        | 180/200 [00:23<00:02,  7.29it/s]\n",
      "\n",
      " 90%|████████████████████████████████████████████████████████████████████████▍       | 181/200 [00:23<00:02,  7.11it/s]\n",
      "\n",
      " 91%|████████████████████████████████████████████████████████████████████████▊       | 182/200 [00:23<00:02,  6.94it/s]\n",
      "\n",
      " 92%|█████████████████████████████████████████████████████████████████████████▏      | 183/200 [00:23<00:03,  5.52it/s]\n",
      "\n",
      " 92%|█████████████████████████████████████████████████████████████████████████▌      | 184/200 [00:23<00:02,  5.91it/s]\n",
      "\n",
      " 92%|██████████████████████████████████████████████████████████████████████████      | 185/200 [00:23<00:02,  6.19it/s]\n",
      "\n",
      " 93%|██████████████████████████████████████████████████████████████████████████▍     | 186/200 [00:24<00:02,  6.11it/s]\n",
      "\n",
      " 94%|██████████████████████████████████████████████████████████████████████████▊     | 187/200 [00:24<00:02,  6.28it/s]\n",
      "\n",
      " 94%|███████████████████████████████████████████████████████████████████████████▏    | 188/200 [00:24<00:01,  6.31it/s]\n",
      "\n",
      " 94%|███████████████████████████████████████████████████████████████████████████▌    | 189/200 [00:24<00:01,  6.44it/s]\n",
      "\n",
      " 95%|████████████████████████████████████████████████████████████████████████████    | 190/200 [00:24<00:01,  6.65it/s]\n",
      "\n",
      " 96%|████████████████████████████████████████████████████████████████████████████▍   | 191/200 [00:24<00:01,  6.50it/s]\n",
      "\n",
      " 96%|████████████████████████████████████████████████████████████████████████████▊   | 192/200 [00:24<00:01,  6.35it/s]\n",
      "\n",
      " 96%|█████████████████████████████████████████████████████████████████████████████▏  | 193/200 [00:25<00:01,  6.41it/s]\n",
      "\n",
      " 97%|█████████████████████████████████████████████████████████████████████████████▌  | 194/200 [00:25<00:00,  6.66it/s]\n",
      "\n",
      " 98%|██████████████████████████████████████████████████████████████████████████████  | 195/200 [00:25<00:00,  6.80it/s]\n",
      "\n",
      " 98%|██████████████████████████████████████████████████████████████████████████████▍ | 196/200 [00:25<00:00,  6.94it/s]\n",
      "\n",
      " 98%|██████████████████████████████████████████████████████████████████████████████▊ | 197/200 [00:25<00:00,  7.04it/s]\n",
      "\n",
      " 99%|███████████████████████████████████████████████████████████████████████████████▏| 198/200 [00:25<00:00,  7.18it/s]\n",
      "\n",
      "100%|███████████████████████████████████████████████████████████████████████████████▌| 199/200 [00:25<00:00,  7.18it/s]\n",
      "\n",
      "100%|████████████████████████████████████████████████████████████████████████████████| 200/200 [00:26<00:00,  7.66it/s]\n",
      "\n",
      "\n",
      "  0%|                                                                                          | 0/200 [00:00<?, ?it/s]"
     ]
    },
    {
     "name": "stdout",
     "output_type": "stream",
     "text": [
      "{'rank': '1', 'content_url': 'https://www.youtube.com/watch?v=v7bnOxV4jAc&list=PLmtapKaZsgZt3g_uAPJbsMWdkVsznn_2R&index=1', 'content_title': '[MV] IU(아이유)_LILAC(라일락)', 'creator': '1theK (원더케이)', 'creator_url': 'https://www.youtube.com/c/1theK', 'views': '7368819', 'date': '2021-3-25', 'good': 780000, 'bad': 7900, 'comment': -1, 'hashtags': ['#NEWRELEASE', '#MV', '#1theK', '#원더케이'], 'description': ['[MV] IU(아이유)_LILAC(라일락)\\n\\n\\nK-POP Wonderland, 1theK\\n\\nK-POP의 모든 즐거움을 1theK(원더케이)에서 만나보세요! :)\\nWelcome to the official YouTube channel of K-POP Wonderland, 1theK\\n\\n\"\"1theK Originals\"\" Subscribe 👉 ', '[Notice] 1theK YouTube is also an official channel for the MV, and music shows will count the views from this channel too.\\n[공지] 1theK YouTube는 MV를 유통하는 공식 채널로, 1theK에 업로드된 MV 조회수 또한 음악방송 순위에 반영됩니다.', '▶1theK YT : ', '▶1theK FB  : ', '▶1theK TW : ', '▶1theK Kakao : ', '▶1theK TikTok : ', '\"']}\n"
     ]
    },
    {
     "name": "stderr",
     "output_type": "stream",
     "text": [
      "\n",
      "\n",
      "  0%|▍                                                                               | 1/200 [00:19<1:03:09, 19.04s/it]"
     ]
    },
    {
     "name": "stdout",
     "output_type": "stream",
     "text": [
      "{'rank': '2', 'content_url': 'https://www.youtube.com/watch?v=J_sPEzOsixE&list=PLmtapKaZsgZt3g_uAPJbsMWdkVsznn_2R&index=2', 'content_title': '(ENG) 나 엑소 좋아했네? 솔직히 여기 나온 노래 모르는 사람 대한민국 국민 아님(그만큼 명곡이 많다는 뜻) / [문명특급 EP.177]', 'creator': '문명특급 - MMTG', 'creator_url': 'https://www.youtube.com/c/Oopssofastexpress', 'views': '929446', 'date': '최초-공개:-2021', 'good': 57000, 'bad': 416, 'comment': -1, 'hashtags': ['#백현', '#밤비', '#엑소', '#EXO', '#BAEKHYUN', '#Bambi'], 'description': ['2030의 나훈아 엑소 백현이 왔읍니다👏👏👏\\n큥이 언제 서른 살 됐어ㅠ 나만 늙었어 나만ㅠ\\nSM 전직원의 투표를 뒤로 하고 이수만 쌤이 혼자 골랐다는\\n엑소의 명곡은 과연 어떤 노래였을까요?', '기획/하현종  프로듀서/이아리따  진행/이은재  구성/이은재 이규희 이세정  촬영/오채영 최송인  디자인·CG/김하경 김한솔  담당인턴/김은비 이수현  마케팅/남승훈 김유진 정아름  조연출·편집/오한주  연출/홍민지  제작/SBS디지털뉴스랩 크리에이티브 사업부문']}\n"
     ]
    },
    {
     "name": "stderr",
     "output_type": "stream",
     "text": [
      "\n",
      "\n",
      "  1%|▊                                                                               | 2/200 [00:36<1:01:01, 18.49s/it]"
     ]
    },
    {
     "name": "stdout",
     "output_type": "stream",
     "text": [
      "{'rank': '3', 'content_url': 'https://www.youtube.com/watch?v=6xz1bay-6dQ&list=PLmtapKaZsgZt3g_uAPJbsMWdkVsznn_2R&index=3', 'content_title': '[#하이라이트#]드디어 만남 성사! 진짜 BTS와 BTS 여고생의 만남! 살아계세요?#유퀴즈온더블럭 | YOU QUIZ ON THE BLOCK EP.99', 'creator': '유 퀴즈 온 더 튜브', 'creator_url': 'https://www.youtube.com/channel/UC920m3pMPH45qztdhppZhwA', 'views': '6387273', 'date': '2021-3-24', 'good': 400000, 'bad': 2400, 'comment': -1, 'hashtags': ['#유퀴즈온더블럭', '#유퀴즈', '#유재석', '#조세호', '#방탄소년단', '#BTS', '#RM', '#진', '#슈가', '#제이홉', '#지민', '#뷔', '#정국'], 'description': ['유 퀴즈 온 더 블럭\\n\\n매주 (수) 저녁 8시 40분 tvN']}\n"
     ]
    },
    {
     "name": "stderr",
     "output_type": "stream",
     "text": [
      "\n",
      "\n",
      "  2%|█▏                                                                                | 3/200 [00:53<59:57, 18.26s/it]"
     ]
    },
    {
     "name": "stdout",
     "output_type": "stream",
     "text": [
      "{'rank': '4', 'content_url': 'https://www.youtube.com/watch?v=9yneHTModes&list=PLmtapKaZsgZt3g_uAPJbsMWdkVsznn_2R&index=4', 'content_title': '[찜꽁습꽁] 상위 0.1% 천재 고양이 💖다홍이💖 모음! 세상에 다홍이 하버드 가야 할 것 같아요. (진심)ㅣSBS ENTER.', 'creator': 'SBS Entertainment', 'creator_url': 'https://www.youtube.com/user/entertainmentSBS', 'views': '577575', 'date': '2021-3-24', 'good': 11000, 'bad': 228, 'comment': -1, 'hashtags': ['#다홍이', '#박수홍', '#뷰티앤더비스트'], 'description': ['이번엔 사심 200% 넣었습니다.\\n편집자가 찜꽁한 천재 고양이 다홍이 모음💖', '▶ Hompage : ', '▶ Subscribe SBS Entertainment : ']}\n"
     ]
    },
    {
     "name": "stderr",
     "output_type": "stream",
     "text": [
      "\n",
      "\n",
      "  2%|█▋                                                                                | 4/200 [01:11<59:02, 18.07s/it]"
     ]
    },
    {
     "name": "stdout",
     "output_type": "stream",
     "text": [
      "{'rank': '5', 'content_url': 'https://www.youtube.com/watch?v=RNSxTfyvRHg&list=PLmtapKaZsgZt3g_uAPJbsMWdkVsznn_2R&index=5', 'content_title': '왜이렇게까지하는거야', 'creator': '런닝맨 - 스브스 공식 채널', 'creator_url': 'https://www.youtube.com/c/SBSRunningMan', 'views': '1439239', 'date': '2021-3-23', 'good': 17000, 'bad': 353, 'comment': -1, 'hashtags': ['#예능맛ZIP', '#런닝맨', '#Runningman'], 'description': ['아니..왜 이렇게까지 하는 거야...zip《런닝맨 / 예능맛ZIP / RunningMan 》\\n\\n최다 출석 이광수']}\n"
     ]
    },
    {
     "name": "stderr",
     "output_type": "stream",
     "text": [
      "\n",
      "\n",
      "  2%|██                                                                                | 5/200 [01:28<57:57, 17.84s/it]"
     ]
    },
    {
     "name": "stdout",
     "output_type": "stream",
     "text": [
      "{'rank': '6', 'content_url': 'https://www.youtube.com/watch?v=04tYkKUPPv4&list=PLmtapKaZsgZt3g_uAPJbsMWdkVsznn_2R&index=6', 'content_title': 'LILAC (라일락)', 'creator': '이지금 [IU Official]', 'creator_url': 'https://www.youtube.com/channel/UC3SyT4_WLHzN7JmHQwKQZww', 'views': '544935', 'date': '2021-3-25', 'good': 15000, 'bad': 176, 'comment': -1, 'hashtags': [], 'description': []}\n"
     ]
    },
    {
     "name": "stderr",
     "output_type": "stream",
     "text": [
      "\n",
      "\n",
      "  3%|██▍                                                                             | 6/200 [02:05<1:15:55, 23.48s/it]"
     ]
    },
    {
     "name": "stdout",
     "output_type": "stream",
     "text": [
      "{'rank': '7', 'content_url': 'https://www.youtube.com/watch?v=jGibk-kRlEA&list=PLmtapKaZsgZt3g_uAPJbsMWdkVsznn_2R&index=7', 'content_title': \"'아무것도 해보지 못한 경기'! 국가대표팀 친선경기 대한민국 vs 일본 하이라이트\", 'creator': 'MBC스포츠탐험대', 'creator_url': 'https://www.youtube.com/channel/UCArK9MK34LsQzPJrl5TZmYA', 'views': '261543', 'date': '2021-3-25', 'good': 1000, 'bad': 440, 'comment': -1, 'hashtags': ['#한일전', '#축구', '#벤투'], 'description': ['10년만에 요코하마에서 다시 열린\\n한일 축구 국가대표팀 친선경기!\\n무기력한 경기 끝에 대한민국은 0 : 3으로 패배하고 말았습니다.']}\n"
     ]
    },
    {
     "name": "stderr",
     "output_type": "stream",
     "text": [
      "\n",
      "\n",
      "  4%|██▊                                                                             | 7/200 [02:23<1:09:54, 21.74s/it]"
     ]
    },
    {
     "name": "stdout",
     "output_type": "stream",
     "text": [
      "{'rank': '8', 'content_url': 'https://www.youtube.com/watch?v=E_SZ3ObGyTA&list=PLmtapKaZsgZt3g_uAPJbsMWdkVsznn_2R&index=8', 'content_title': \"BTS (방탄소년단) 'Film out' Official Teaser\", 'creator': 'Big Hit Labels', 'creator_url': 'https://www.youtube.com/c/BigHitLabels', 'views': '8978222', 'date': '2021-3-25', 'good': 2300000, 'bad': 9500, 'comment': -1, 'hashtags': ['#BTS', '#방탄소년단', '#Filmout', '#BTS_THE_BEST', '#Teaser'], 'description': [\"BTS (방탄소년단) 'Film out' Official Teaser\\n\\nBTS (방탄소년단) 'Film out' Official MV will be released at 12AM (JST/KST) on April 2, 2021\\n\\n\\nFilm out\\n\\nSong Credits:\\nProduced by back number, UTA for TinyVoice, Production\\n(Iyori Shimizu from back number, JUNG KOOK)\\n\\n\\nMusic Video Credits:\\nDirector: Yong Seok Choi (Lumpens)\\n1st AD: Jihye Yoon (Lumpens)\\n2nd AD: Ran Ro (Lumpens)\\nPA: Chanyang Kim, Soeyoung Park\\n\\nDirector of Photography: Eumko\\nFocus Puller: Sangwoo Yun\\n2nd AC: Youngwoo Lee, Eunil Lee\\n3rd AC: Yuntae Ko\\n\\nGaffer: Choi Doo Soo (DS LIGHT)\\nLighting Crew: Heo Jung Hwan, Jung Yu Jin, Lee Seong Min, Lee Sang Jun, Lee Gun, La hae\\n\\nArt Director: Bona Kim, Jinsil Park (MU:E)\\nAssistant Art team: Yeri Kang, Minjung Kim (MU:E)\\nArt-team Manager: ilho Heo (MU:E)\\n\\nKey Grip: Kiheon Choi\\nBestboy: Sungeun Kim\\nGrip: Hobin Kang , Hyunsuk Jo\\n\\nTechno Crane : SeviceVision Korea\\nTaehyun Choi , Yonggeun Hwang , Jisoo Woo , Hakseo Kim , Jaewon Jung\\n\\nJimmy Jib Operator: Youngjung Kim\\nJimmy Jib Assistant: Hyunin Kim , Sunghoon Kim , Yunhyun Kim\\n\\nVFX: PLASTIC BEACH\\nVFX Supervisor: OHZEON\\nVFX Assistant Supervisor: JOJEEM\\nVFX Project Manager: Song Chanyoung, Jeong Jieun\\nVFX Producer: Jang Kyutae, Ahn Sohyun\\n\\n3D Artist: Lee Kwangwon, Kim Doyeon, Lee Jeonghwa, Jeon Jiwon\\n2D Artist: Jang Gihoon, Lee Hyunjun, Shin Hyeunsung\\nFX Artist: We JungIn\\n\\nVisual Creative: Nu Kim, Lee Sun Kyoung, Kang Ju Eun, Kim Ga Eun, Kim Hyo Won, Cha Yeon Hwa\\nArtist Management: Kim Shin Gyu, Jang Jin Gu, Kim Su Bin, An Da Sol, Park Jun Tae, Yun Taewoong, Lee Seung Byung, Lee Jung Min, Lee Hyeon Ki, Choi Hyo Jin\\n\\n\\nBig Hit Entertainment. Rights are reserved selectively in the video. Unauthorized reproduction is a violation of applicable laws. Manufactured by Big Hit Entertainment, Seoul, Korea.\\n\\nConnect with BTS: \"]}\n"
     ]
    },
    {
     "name": "stderr",
     "output_type": "stream",
     "text": [
      "\n",
      "\n",
      "  4%|███▏                                                                            | 8/200 [02:41<1:06:09, 20.67s/it]"
     ]
    },
    {
     "name": "stdout",
     "output_type": "stream",
     "text": [
      "{'rank': '9', 'content_url': 'https://www.youtube.com/watch?v=E787kCVAeL8&list=PLmtapKaZsgZt3g_uAPJbsMWdkVsznn_2R&index=9', 'content_title': 'Flu (Flu)', 'creator': '이지금 [IU Official]', 'creator_url': 'https://www.youtube.com/channel/UC3SyT4_WLHzN7JmHQwKQZww', 'views': '699662', 'date': '2021-3-25', 'good': 40000, 'bad': 189, 'comment': -1, 'hashtags': [], 'description': []}\n"
     ]
    },
    {
     "name": "stderr",
     "output_type": "stream",
     "text": [
      "\n",
      "\n",
      "  4%|███▌                                                                            | 9/200 [03:18<1:21:52, 25.72s/it]"
     ]
    },
    {
     "name": "stdout",
     "output_type": "stream",
     "text": [
      "{'rank': '10', 'content_url': 'https://www.youtube.com/watch?v=OYYRDIll9b0&list=PLmtapKaZsgZt3g_uAPJbsMWdkVsznn_2R&index=10', 'content_title': '[직박구리] 이혼할 생각 있었냐는 함소원의 질문에 진화가 한 말은? #아내의맛 #TV조선조이 #TVCHOSUNJOY (TV CHOSUN 210323 방송)', 'creator': 'TV CHOSUN JOY', 'creator_url': 'https://www.youtube.com/channel/UCYeeEwH_s9yD9HQe4e2JuBw', 'views': '1378452', 'date': '2021-3-24', 'good': 10000, 'bad': 1000, 'comment': -1, 'hashtags': ['#아내의맛', '#함소원', '#진화'], 'description': ['함진부부가 직접 밝히는\\n결별설 그 뒷 이야기\\n역시 부부싸움은 칼로 물베기~!', '🎪 구독과 좋아요 🎪\\nTV CHOSUN JOY 구독하기 ☞ ', 'TV CHOSUN : ']}\n"
     ]
    },
    {
     "name": "stderr",
     "output_type": "stream",
     "text": [
      "\n",
      "\n",
      "  5%|███▉                                                                           | 10/200 [03:35<1:13:07, 23.09s/it]"
     ]
    },
    {
     "name": "stdout",
     "output_type": "stream",
     "text": [
      "{'rank': '11', 'content_url': 'https://www.youtube.com/watch?v=g9dQNSju91w&list=PLmtapKaZsgZt3g_uAPJbsMWdkVsznn_2R&index=11', 'content_title': '슈퍼맨이 돌아왔다 375회 티저 - 찐건나블리네 [슈퍼맨이 돌아왔다/The Return of Superman] | KBS 방송', 'creator': 'KBS Entertain', 'creator_url': 'https://www.youtube.com/user/KBSEntertain', 'views': '555327', 'date': '2021-3-25', 'good': 10000, 'bad': 135, 'comment': -1, 'hashtags': [], 'description': []}\n"
     ]
    },
    {
     "name": "stderr",
     "output_type": "stream",
     "text": [
      "\n",
      "\n",
      "  6%|████▎                                                                          | 11/200 [04:22<1:34:45, 30.08s/it]"
     ]
    },
    {
     "name": "stdout",
     "output_type": "stream",
     "text": [
      "{'rank': '12', 'content_url': 'https://www.youtube.com/watch?v=dk22oBpplKA&list=PLmtapKaZsgZt3g_uAPJbsMWdkVsznn_2R&index=12', 'content_title': 'Coin (Coin)', 'creator': '이지금 [IU Official]', 'creator_url': 'https://www.youtube.com/channel/UC3SyT4_WLHzN7JmHQwKQZww', 'views': '489036', 'date': '2021-3-25', 'good': 19000, 'bad': 126, 'comment': -1, 'hashtags': [], 'description': []}\n"
     ]
    },
    {
     "name": "stderr",
     "output_type": "stream",
     "text": [
      "\n",
      "\n",
      "  6%|████▋                                                                          | 12/200 [04:59<1:40:40, 32.13s/it]"
     ]
    },
    {
     "name": "stdout",
     "output_type": "stream",
     "text": [
      "{'rank': '13', 'content_url': 'https://www.youtube.com/watch?v=eMrsoMGUeVI&list=PLmtapKaZsgZt3g_uAPJbsMWdkVsznn_2R&index=13', 'content_title': '유병재 누나 vs 유병재 웃음 참기 배틀 [웃지모텔 - 웃지 못하는 모텔 EP4]', 'creator': '유병재', 'creator_url': 'https://www.youtube.com/c/dbqudwo333', 'views': '239266', 'date': '2021-3-25', 'good': 3300, 'bad': 263, 'comment': -1, 'hashtags': [], 'description': []}\n"
     ]
    },
    {
     "name": "stderr",
     "output_type": "stream",
     "text": [
      "\n",
      "\n",
      "  6%|█████▏                                                                         | 13/200 [05:45<1:53:40, 36.47s/it]"
     ]
    },
    {
     "name": "stdout",
     "output_type": "stream",
     "text": [
      "{'rank': '14', 'content_url': 'https://www.youtube.com/watch?v=FYWMRFp9kHU&list=PLmtapKaZsgZt3g_uAPJbsMWdkVsznn_2R&index=14', 'content_title': '🚨어그로아님🚨아주대 석진이형, 늦깍이 영재되다 [런닝맨|SBS 210321 방송]', 'creator': 'SBS ENTER PLAY', 'creator_url': 'https://www.youtube.com/c/SBSENTERPLAY', 'views': '387934', 'date': '2021-3-24', 'good': 3300, 'bad': 89, 'comment': -1, 'hashtags': ['#런닝맨', '#Runningman', '#지석진'], 'description': [' 에디터 배꼽픽(머리는 좋지만 기억력은 좋지 않은 편,,)\\n\\n런닝맨 EP.547\\n☞ 매주 일요일 오후 ']}\n"
     ]
    },
    {
     "name": "stderr",
     "output_type": "stream",
     "text": [
      "\n",
      "\n",
      "  7%|█████▌                                                                         | 14/200 [06:02<1:34:57, 30.63s/it]"
     ]
    },
    {
     "name": "stdout",
     "output_type": "stream",
     "text": [
      "{'rank': '15', 'content_url': 'https://www.youtube.com/watch?v=BEyeVIBYaiA&list=PLmtapKaZsgZt3g_uAPJbsMWdkVsznn_2R&index=15', 'content_title': '사람 조아ㅠ.ㅠ🐶 친화력+순둥미 폭발하는 티아라 지연? #highlight #온앤오프#온앤오프 | onandoff EP.37', 'creator': 'tvN', 'creator_url': 'https://www.youtube.com/user/TheChtvn', 'views': '666119', 'date': '2021-3-23', 'good': 7500, 'bad': 257, 'comment': -1, 'hashtags': ['#온앤오프'], 'description': ['화요일 밤 10시 30분 tvN']}\n"
     ]
    },
    {
     "name": "stderr",
     "output_type": "stream",
     "text": [
      "\n",
      "\n",
      "  8%|█████▉                                                                         | 15/200 [06:19<1:21:53, 26.56s/it]"
     ]
    },
    {
     "name": "stdout",
     "output_type": "stream",
     "text": [
      "{'rank': '16', 'content_url': 'https://www.youtube.com/watch?v=v63XmlzRuac&list=PLmtapKaZsgZt3g_uAPJbsMWdkVsznn_2R&index=16', 'content_title': '[코다리] 흥국생명 투혼의 챔프전 진출 현장! 눈물바다가 되어버렸네ㅠㅠ', 'creator': 'KOVO', 'creator_url': 'https://www.youtube.com/channel/UC-QIqPAffXGJVgy_tnn145w', 'views': '229070', 'date': '2021-3-24', 'good': 2700, 'bad': 65, 'comment': -1, 'hashtags': ['#흥국생명', '#챔프전_진출', '#김연경_투혼'], 'description': ['흥국생명 투혼의 챔프전 진출 현장!\\n눈물바다가 되어버렸고,,,상미는 승리송을 불렀고,,,']}\n"
     ]
    },
    {
     "name": "stderr",
     "output_type": "stream",
     "text": [
      "\n",
      "\n",
      "  8%|██████▎                                                                        | 16/200 [06:36<1:12:26, 23.62s/it]"
     ]
    },
    {
     "name": "stdout",
     "output_type": "stream",
     "text": [
      "{'rank': '17', 'content_url': 'https://www.youtube.com/watch?v=PJzY6RzLAlY&list=PLmtapKaZsgZt3g_uAPJbsMWdkVsznn_2R&index=17', 'content_title': '(EN) 두 글자...?♨ 데뷔 17년차 아이돌의 레전드 찍은 드립력 #슈퍼주니어 2탄ㅣ시즌비시즌 ep.29', 'creator': '시즌비시즌 Season B Season', 'creator_url': 'https://www.youtube.com/c/SeasonBSeason', 'views': '412530', 'date': '2021-3-25', 'good': 16000, 'bad': 565, 'comment': -1, 'hashtags': ['#시즌비시즌', '#슈퍼주니어_2탄', '#덜미안미', '#30SEXY', '#하우스파티', '#Superjunior', '#SJ', '#슈주', '#슈퍼주니어예능', '#이특', '#예성', '#신동', '#은혁', '#동해', '#시원', '#려욱', '#규현', '#희철', '#예성', '#비', '#정지훈', '#jungjihoon', '#RAIN', '#비유튜브', '#seasonbseason', '#비슈퍼주니어', '#rainsuperjunior'], 'description': [' 하면 생각나는 단어는?\\n(광) 폭주하는 데뷔 17년차 아이돌 (기) \\n지금 떠오른 그 정답은 우리 마음 속에 저-장★']}\n"
     ]
    },
    {
     "name": "stderr",
     "output_type": "stream",
     "text": [
      "\n",
      "\n",
      "  8%|██████▋                                                                        | 17/200 [06:54<1:06:43, 21.88s/it]"
     ]
    },
    {
     "name": "stdout",
     "output_type": "stream",
     "text": [
      "{'rank': '18', 'content_url': 'https://www.youtube.com/watch?v=wxzeqf78Lnk&list=PLmtapKaZsgZt3g_uAPJbsMWdkVsznn_2R&index=18', 'content_title': \"'욕설 논란' 식당에 별점 테러…결국 간판 철거 / JTBC 뉴스ON\", 'creator': 'JTBC News', 'creator_url': 'https://www.youtube.com/user/JTBC10news', 'views': '1120946', 'date': '2021-3-24', 'good': 7700, 'bad': 339, 'comment': -1, 'hashtags': ['#JTBC뉴스'], 'description': ['글쓴이는 다른 시각으로 볼 수 있는 의견 듣고 싶어서 글 올리게 됐다고 밝혔는데, 누리꾼들 반응은 어떤가요? \\n\\n☞JTBC유튜브 구독하기 (', ')\\n☞JTBC유튜브 커뮤니티 (', ')', ' 공식 페이지\\n(홈페이지) ', '(APP) ', '페이스북 ', '트위터 ', '인스타그램 ', '☏ 제보하기 ', '방송사 : JTBC (', ')']}\n"
     ]
    },
    {
     "name": "stderr",
     "output_type": "stream",
     "text": [
      "\n",
      "\n",
      "  9%|███████                                                                        | 18/200 [07:11<1:02:10, 20.50s/it]"
     ]
    },
    {
     "name": "stdout",
     "output_type": "stream",
     "text": [
      "{'rank': '19', 'content_url': 'https://www.youtube.com/watch?v=OnN_030drrw&list=PLmtapKaZsgZt3g_uAPJbsMWdkVsznn_2R&index=19', 'content_title': '혤💛챙 아는형님 다녀왔어요! 로제 솔로 데뷔 축하해!', 'creator': '혜리', 'creator_url': 'https://www.youtube.com/c/%ED%98%9C%EB%A6%AC0609', 'views': '1047784', 'date': '2021-3-24', 'good': 96000, 'bad': 320, 'comment': -1, 'hashtags': ['#혜리', '#hyeri', '#나는이혜리', '#Vlog', '#브이로그', '#아는형님', '#아형', '#로제'], 'description': [\"혜리와 채영의 아는형님 녹화하던 날!\\n\\n로제 솔로 데뷔 'R' 발매 축하!! 'on the ground' 대박 기원!\\nMV💛➡ \", '[Hyeri Official page]\\nHomepage : ', 'Instagram : ', 'V : ']}\n"
     ]
    },
    {
     "name": "stderr",
     "output_type": "stream",
     "text": [
      "\n",
      "\n",
      " 10%|███████▋                                                                         | 19/200 [07:28<58:24, 19.36s/it]"
     ]
    },
    {
     "name": "stdout",
     "output_type": "stream",
     "text": [
      "{'rank': '20', 'content_url': 'https://www.youtube.com/watch?v=FXxVUaY45E4&list=PLmtapKaZsgZt3g_uAPJbsMWdkVsznn_2R&index=20', 'content_title': '[BG-CLIP] 역주행으로 재소환💕 매일 매일 보고싶은 쁘걸이들의 활동 비하인드', 'creator': 'Brave Entertainment', 'creator_url': 'https://www.youtube.com/c/BraveEntertainment', 'views': '166486', 'date': '2021-3-25', 'good': 10000, 'bad': 41, 'comment': -1, 'hashtags': ['#Bravegirls', '#Rollin', '#BG_CLIP', '#브레이브걸스', '#롤린', '#피어레스', '#FEARLESS'], 'description': ['[ official Site ]\\nBrave        ', 'Twitter       ', 'facebook   ', 'Instagram  ', 'TVcast       ']}\n"
     ]
    },
    {
     "name": "stderr",
     "output_type": "stream",
     "text": [
      "\n",
      "\n",
      " 10%|████████                                                                         | 20/200 [07:45<56:17, 18.76s/it]"
     ]
    },
    {
     "name": "stdout",
     "output_type": "stream",
     "text": [
      "{'rank': '21', 'content_url': 'https://www.youtube.com/watch?v=_vU28jNLQ-8&list=PLmtapKaZsgZt3g_uAPJbsMWdkVsznn_2R&index=21', 'content_title': '[4K][최준의니곡내곡] 최준 - 어떻게 이별까지 사랑하겠어,널 사랑하는 거지(feat.악뮤 수현) LIVE', 'creator': '피식대학Psick Univ', 'creator_url': 'https://www.youtube.com/channel/UCGX5sP4ehBkihHwt5bs5wvg', 'views': '1643840', 'date': '최초-공개:-2021', 'good': 35000, 'bad': 455, 'comment': -1, 'hashtags': ['#수현', '#악동뮤지션', '#최준'], 'description': []}\n"
     ]
    },
    {
     "name": "stderr",
     "output_type": "stream",
     "text": [
      "\n",
      "\n",
      " 10%|████████▎                                                                      | 21/200 [08:12<1:03:03, 21.13s/it]"
     ]
    },
    {
     "name": "stdout",
     "output_type": "stream",
     "text": [
      "{'rank': '22', 'content_url': 'https://www.youtube.com/watch?v=TF9Y0S6pHm0&list=PLmtapKaZsgZt3g_uAPJbsMWdkVsznn_2R&index=22', 'content_title': \"일반인은 절대 '이 치킨'을 알 수 없는 이유(마지막 소름 주의)\", 'creator': '쿠왕coo king', 'creator_url': 'https://www.youtube.com/channel/UCR-qpXziP5pIqNHFKL-w12g', 'views': '556207', 'date': '2021-3-23', 'good': 6000, 'bad': 653, 'comment': -1, 'hashtags': ['#shorts'], 'description': ['일반인은 절대 이 치킨을 알 수 없는 이유에 대해서 진지하게 알려드립니다.', '문의 : cooking7564@gmail.com\\n\\n🎵 브금대통령\\n🎵Track :  ']}\n"
     ]
    },
    {
     "name": "stderr",
     "output_type": "stream",
     "text": [
      "\n",
      "\n",
      " 11%|████████▉                                                                        | 22/200 [08:29<58:53, 19.85s/it]"
     ]
    },
    {
     "name": "stdout",
     "output_type": "stream",
     "text": [
      "{'rank': '23', 'content_url': 'https://www.youtube.com/watch?v=LV8Ezog59cI&list=PLmtapKaZsgZt3g_uAPJbsMWdkVsznn_2R&index=23', 'content_title': 'Brave Girls, Rollin’(브레이브걸스, 롤린) [THE SHOW 210323]', 'creator': 'The K-POP', 'creator_url': 'https://www.youtube.com/c/TheKPOP', 'views': '798096', 'date': '2021-3-23', 'good': 28000, 'bad': 252, 'comment': -1, 'hashtags': ['#브레이브걸스', '#Brave_Girls', '#Rollin'], 'description': [', 롤린', '’\\n\\n채널에 가입하여 혜택을 누려보세요.', 'The K-POP \\n\\nAll about K-POP in Korea!\\nOfficial  K-POP YouTube channel of SBS Medianet.\\nPlease don’t forget to click Subscribe.\\nEnjoy your YouTube life with THE K-POP.']}\n"
     ]
    },
    {
     "name": "stderr",
     "output_type": "stream",
     "text": [
      "\n",
      "\n",
      " 12%|█████████▎                                                                       | 23/200 [08:46<55:50, 18.93s/it]"
     ]
    },
    {
     "name": "stdout",
     "output_type": "stream",
     "text": [
      "{'rank': '24', 'content_url': 'https://www.youtube.com/watch?v=8lb2rhoeieA&list=PLmtapKaZsgZt3g_uAPJbsMWdkVsznn_2R&index=24', 'content_title': '붙여서 먹는 미래식량으로만 3일 버티기', 'creator': '공대생 변승주 DS', 'creator_url': 'https://www.youtube.com/c/%EA%B3%B5%EB%8C%80%EC%83%9D%EC%A3%BC%EC%A3%BC', 'views': '359160', 'date': '2021-3-25', 'good': 6400, 'bad': 198, 'comment': -1, 'hashtags': ['#대리흑우', '#붙히는영양소', '#리뷰'], 'description': ['문의는 gds@videovillage.co.kr\\nhjsbjh2@gmail.com 으로 부탁드려요!\\n\\nTrack : 귀여운 BGM 모음\\nMusic by 브금대통령\\nMusic provided by 브금대통령\\nWatch : ']}\n"
     ]
    },
    {
     "name": "stderr",
     "output_type": "stream",
     "text": [
      "\n",
      "\n",
      " 12%|█████████▋                                                                       | 24/200 [09:03<54:25, 18.55s/it]"
     ]
    },
    {
     "ename": "KeyboardInterrupt",
     "evalue": "",
     "output_type": "error",
     "traceback": [
      "\u001b[1;31m---------------------------------------------------------------------------\u001b[0m",
      "\u001b[1;31mKeyboardInterrupt\u001b[0m                         Traceback (most recent call last)",
      "\u001b[1;32m<ipython-input-21-143aa6639f9b>\u001b[0m in \u001b[0;36m<module>\u001b[1;34m\u001b[0m\n\u001b[0;32m     46\u001b[0m \u001b[1;31m# get detail info\u001b[0m\u001b[1;33m\u001b[0m\u001b[1;33m\u001b[0m\u001b[1;33m\u001b[0m\u001b[0m\n\u001b[0;32m     47\u001b[0m \u001b[1;32mfor\u001b[0m \u001b[0mcontent\u001b[0m \u001b[1;32min\u001b[0m \u001b[0mtqdm\u001b[0m\u001b[1;33m(\u001b[0m\u001b[0mtotal_contents\u001b[0m\u001b[1;33m)\u001b[0m\u001b[1;33m:\u001b[0m\u001b[1;33m\u001b[0m\u001b[1;33m\u001b[0m\u001b[0m\n\u001b[1;32m---> 48\u001b[1;33m     \u001b[0mcrawl_detail_content\u001b[0m\u001b[1;33m(\u001b[0m\u001b[0mcontent\u001b[0m\u001b[1;33m[\u001b[0m\u001b[1;34m\"content_url\"\u001b[0m\u001b[1;33m]\u001b[0m\u001b[1;33m,\u001b[0m \u001b[0mcontent\u001b[0m\u001b[1;33m)\u001b[0m\u001b[1;33m\u001b[0m\u001b[1;33m\u001b[0m\u001b[0m\n\u001b[0m",
      "\u001b[1;32m<ipython-input-14-8abed7570ac2>\u001b[0m in \u001b[0;36mcrawl_detail_content\u001b[1;34m(url, data)\u001b[0m\n\u001b[0;32m      7\u001b[0m     \u001b[0mdriver\u001b[0m\u001b[1;33m.\u001b[0m\u001b[0mget\u001b[0m\u001b[1;33m(\u001b[0m\u001b[0mcontent\u001b[0m\u001b[1;33m[\u001b[0m\u001b[1;34m\"content_url\"\u001b[0m\u001b[1;33m]\u001b[0m\u001b[1;33m)\u001b[0m\u001b[1;33m\u001b[0m\u001b[1;33m\u001b[0m\u001b[0m\n\u001b[0;32m      8\u001b[0m     \u001b[0mtag\u001b[0m \u001b[1;33m=\u001b[0m \u001b[0mdriver\u001b[0m\u001b[1;33m.\u001b[0m\u001b[0mfind_element_by_css_selector\u001b[0m\u001b[1;33m(\u001b[0m\u001b[1;34m\"#movie_player > div.html5-video-container > video\"\u001b[0m\u001b[1;33m)\u001b[0m\u001b[1;33m\u001b[0m\u001b[1;33m\u001b[0m\u001b[0m\n\u001b[1;32m----> 9\u001b[1;33m     \u001b[0mtag\u001b[0m\u001b[1;33m.\u001b[0m\u001b[0mclick\u001b[0m\u001b[1;33m(\u001b[0m\u001b[1;33m)\u001b[0m\u001b[1;33m\u001b[0m\u001b[1;33m\u001b[0m\u001b[0m\n\u001b[0m\u001b[0;32m     10\u001b[0m \u001b[1;33m\u001b[0m\u001b[0m\n\u001b[0;32m     11\u001b[0m     \u001b[1;32mtry\u001b[0m\u001b[1;33m:\u001b[0m\u001b[1;33m\u001b[0m\u001b[1;33m\u001b[0m\u001b[0m\n",
      "\u001b[1;32m~\\Anaconda3\\lib\\site-packages\\selenium\\webdriver\\remote\\webelement.py\u001b[0m in \u001b[0;36mclick\u001b[1;34m(self)\u001b[0m\n\u001b[0;32m     78\u001b[0m     \u001b[1;32mdef\u001b[0m \u001b[0mclick\u001b[0m\u001b[1;33m(\u001b[0m\u001b[0mself\u001b[0m\u001b[1;33m)\u001b[0m\u001b[1;33m:\u001b[0m\u001b[1;33m\u001b[0m\u001b[1;33m\u001b[0m\u001b[0m\n\u001b[0;32m     79\u001b[0m         \u001b[1;34m\"\"\"Clicks the element.\"\"\"\u001b[0m\u001b[1;33m\u001b[0m\u001b[1;33m\u001b[0m\u001b[0m\n\u001b[1;32m---> 80\u001b[1;33m         \u001b[0mself\u001b[0m\u001b[1;33m.\u001b[0m\u001b[0m_execute\u001b[0m\u001b[1;33m(\u001b[0m\u001b[0mCommand\u001b[0m\u001b[1;33m.\u001b[0m\u001b[0mCLICK_ELEMENT\u001b[0m\u001b[1;33m)\u001b[0m\u001b[1;33m\u001b[0m\u001b[1;33m\u001b[0m\u001b[0m\n\u001b[0m\u001b[0;32m     81\u001b[0m \u001b[1;33m\u001b[0m\u001b[0m\n\u001b[0;32m     82\u001b[0m     \u001b[1;32mdef\u001b[0m \u001b[0msubmit\u001b[0m\u001b[1;33m(\u001b[0m\u001b[0mself\u001b[0m\u001b[1;33m)\u001b[0m\u001b[1;33m:\u001b[0m\u001b[1;33m\u001b[0m\u001b[1;33m\u001b[0m\u001b[0m\n",
      "\u001b[1;32m~\\Anaconda3\\lib\\site-packages\\selenium\\webdriver\\remote\\webelement.py\u001b[0m in \u001b[0;36m_execute\u001b[1;34m(self, command, params)\u001b[0m\n\u001b[0;32m    631\u001b[0m             \u001b[0mparams\u001b[0m \u001b[1;33m=\u001b[0m \u001b[1;33m{\u001b[0m\u001b[1;33m}\u001b[0m\u001b[1;33m\u001b[0m\u001b[1;33m\u001b[0m\u001b[0m\n\u001b[0;32m    632\u001b[0m         \u001b[0mparams\u001b[0m\u001b[1;33m[\u001b[0m\u001b[1;34m'id'\u001b[0m\u001b[1;33m]\u001b[0m \u001b[1;33m=\u001b[0m \u001b[0mself\u001b[0m\u001b[1;33m.\u001b[0m\u001b[0m_id\u001b[0m\u001b[1;33m\u001b[0m\u001b[1;33m\u001b[0m\u001b[0m\n\u001b[1;32m--> 633\u001b[1;33m         \u001b[1;32mreturn\u001b[0m \u001b[0mself\u001b[0m\u001b[1;33m.\u001b[0m\u001b[0m_parent\u001b[0m\u001b[1;33m.\u001b[0m\u001b[0mexecute\u001b[0m\u001b[1;33m(\u001b[0m\u001b[0mcommand\u001b[0m\u001b[1;33m,\u001b[0m \u001b[0mparams\u001b[0m\u001b[1;33m)\u001b[0m\u001b[1;33m\u001b[0m\u001b[1;33m\u001b[0m\u001b[0m\n\u001b[0m\u001b[0;32m    634\u001b[0m \u001b[1;33m\u001b[0m\u001b[0m\n\u001b[0;32m    635\u001b[0m     \u001b[1;32mdef\u001b[0m \u001b[0mfind_element\u001b[0m\u001b[1;33m(\u001b[0m\u001b[0mself\u001b[0m\u001b[1;33m,\u001b[0m \u001b[0mby\u001b[0m\u001b[1;33m=\u001b[0m\u001b[0mBy\u001b[0m\u001b[1;33m.\u001b[0m\u001b[0mID\u001b[0m\u001b[1;33m,\u001b[0m \u001b[0mvalue\u001b[0m\u001b[1;33m=\u001b[0m\u001b[1;32mNone\u001b[0m\u001b[1;33m)\u001b[0m\u001b[1;33m:\u001b[0m\u001b[1;33m\u001b[0m\u001b[1;33m\u001b[0m\u001b[0m\n",
      "\u001b[1;32m~\\Anaconda3\\lib\\site-packages\\selenium\\webdriver\\remote\\webdriver.py\u001b[0m in \u001b[0;36mexecute\u001b[1;34m(self, driver_command, params)\u001b[0m\n\u001b[0;32m    317\u001b[0m \u001b[1;33m\u001b[0m\u001b[0m\n\u001b[0;32m    318\u001b[0m         \u001b[0mparams\u001b[0m \u001b[1;33m=\u001b[0m \u001b[0mself\u001b[0m\u001b[1;33m.\u001b[0m\u001b[0m_wrap_value\u001b[0m\u001b[1;33m(\u001b[0m\u001b[0mparams\u001b[0m\u001b[1;33m)\u001b[0m\u001b[1;33m\u001b[0m\u001b[1;33m\u001b[0m\u001b[0m\n\u001b[1;32m--> 319\u001b[1;33m         \u001b[0mresponse\u001b[0m \u001b[1;33m=\u001b[0m \u001b[0mself\u001b[0m\u001b[1;33m.\u001b[0m\u001b[0mcommand_executor\u001b[0m\u001b[1;33m.\u001b[0m\u001b[0mexecute\u001b[0m\u001b[1;33m(\u001b[0m\u001b[0mdriver_command\u001b[0m\u001b[1;33m,\u001b[0m \u001b[0mparams\u001b[0m\u001b[1;33m)\u001b[0m\u001b[1;33m\u001b[0m\u001b[1;33m\u001b[0m\u001b[0m\n\u001b[0m\u001b[0;32m    320\u001b[0m         \u001b[1;32mif\u001b[0m \u001b[0mresponse\u001b[0m\u001b[1;33m:\u001b[0m\u001b[1;33m\u001b[0m\u001b[1;33m\u001b[0m\u001b[0m\n\u001b[0;32m    321\u001b[0m             \u001b[0mself\u001b[0m\u001b[1;33m.\u001b[0m\u001b[0merror_handler\u001b[0m\u001b[1;33m.\u001b[0m\u001b[0mcheck_response\u001b[0m\u001b[1;33m(\u001b[0m\u001b[0mresponse\u001b[0m\u001b[1;33m)\u001b[0m\u001b[1;33m\u001b[0m\u001b[1;33m\u001b[0m\u001b[0m\n",
      "\u001b[1;32m~\\Anaconda3\\lib\\site-packages\\selenium\\webdriver\\remote\\remote_connection.py\u001b[0m in \u001b[0;36mexecute\u001b[1;34m(self, command, params)\u001b[0m\n\u001b[0;32m    372\u001b[0m         \u001b[0mdata\u001b[0m \u001b[1;33m=\u001b[0m \u001b[0mutils\u001b[0m\u001b[1;33m.\u001b[0m\u001b[0mdump_json\u001b[0m\u001b[1;33m(\u001b[0m\u001b[0mparams\u001b[0m\u001b[1;33m)\u001b[0m\u001b[1;33m\u001b[0m\u001b[1;33m\u001b[0m\u001b[0m\n\u001b[0;32m    373\u001b[0m         \u001b[0murl\u001b[0m \u001b[1;33m=\u001b[0m \u001b[1;34m'%s%s'\u001b[0m \u001b[1;33m%\u001b[0m \u001b[1;33m(\u001b[0m\u001b[0mself\u001b[0m\u001b[1;33m.\u001b[0m\u001b[0m_url\u001b[0m\u001b[1;33m,\u001b[0m \u001b[0mpath\u001b[0m\u001b[1;33m)\u001b[0m\u001b[1;33m\u001b[0m\u001b[1;33m\u001b[0m\u001b[0m\n\u001b[1;32m--> 374\u001b[1;33m         \u001b[1;32mreturn\u001b[0m \u001b[0mself\u001b[0m\u001b[1;33m.\u001b[0m\u001b[0m_request\u001b[0m\u001b[1;33m(\u001b[0m\u001b[0mcommand_info\u001b[0m\u001b[1;33m[\u001b[0m\u001b[1;36m0\u001b[0m\u001b[1;33m]\u001b[0m\u001b[1;33m,\u001b[0m \u001b[0murl\u001b[0m\u001b[1;33m,\u001b[0m \u001b[0mbody\u001b[0m\u001b[1;33m=\u001b[0m\u001b[0mdata\u001b[0m\u001b[1;33m)\u001b[0m\u001b[1;33m\u001b[0m\u001b[1;33m\u001b[0m\u001b[0m\n\u001b[0m\u001b[0;32m    375\u001b[0m \u001b[1;33m\u001b[0m\u001b[0m\n\u001b[0;32m    376\u001b[0m     \u001b[1;32mdef\u001b[0m \u001b[0m_request\u001b[0m\u001b[1;33m(\u001b[0m\u001b[0mself\u001b[0m\u001b[1;33m,\u001b[0m \u001b[0mmethod\u001b[0m\u001b[1;33m,\u001b[0m \u001b[0murl\u001b[0m\u001b[1;33m,\u001b[0m \u001b[0mbody\u001b[0m\u001b[1;33m=\u001b[0m\u001b[1;32mNone\u001b[0m\u001b[1;33m)\u001b[0m\u001b[1;33m:\u001b[0m\u001b[1;33m\u001b[0m\u001b[1;33m\u001b[0m\u001b[0m\n",
      "\u001b[1;32m~\\Anaconda3\\lib\\site-packages\\selenium\\webdriver\\remote\\remote_connection.py\u001b[0m in \u001b[0;36m_request\u001b[1;34m(self, method, url, body)\u001b[0m\n\u001b[0;32m    395\u001b[0m \u001b[1;33m\u001b[0m\u001b[0m\n\u001b[0;32m    396\u001b[0m         \u001b[1;32mif\u001b[0m \u001b[0mself\u001b[0m\u001b[1;33m.\u001b[0m\u001b[0mkeep_alive\u001b[0m\u001b[1;33m:\u001b[0m\u001b[1;33m\u001b[0m\u001b[1;33m\u001b[0m\u001b[0m\n\u001b[1;32m--> 397\u001b[1;33m             \u001b[0mresp\u001b[0m \u001b[1;33m=\u001b[0m \u001b[0mself\u001b[0m\u001b[1;33m.\u001b[0m\u001b[0m_conn\u001b[0m\u001b[1;33m.\u001b[0m\u001b[0mrequest\u001b[0m\u001b[1;33m(\u001b[0m\u001b[0mmethod\u001b[0m\u001b[1;33m,\u001b[0m \u001b[0murl\u001b[0m\u001b[1;33m,\u001b[0m \u001b[0mbody\u001b[0m\u001b[1;33m=\u001b[0m\u001b[0mbody\u001b[0m\u001b[1;33m,\u001b[0m \u001b[0mheaders\u001b[0m\u001b[1;33m=\u001b[0m\u001b[0mheaders\u001b[0m\u001b[1;33m)\u001b[0m\u001b[1;33m\u001b[0m\u001b[1;33m\u001b[0m\u001b[0m\n\u001b[0m\u001b[0;32m    398\u001b[0m \u001b[1;33m\u001b[0m\u001b[0m\n\u001b[0;32m    399\u001b[0m             \u001b[0mstatuscode\u001b[0m \u001b[1;33m=\u001b[0m \u001b[0mresp\u001b[0m\u001b[1;33m.\u001b[0m\u001b[0mstatus\u001b[0m\u001b[1;33m\u001b[0m\u001b[1;33m\u001b[0m\u001b[0m\n",
      "\u001b[1;32m~\\Anaconda3\\lib\\site-packages\\urllib3\\request.py\u001b[0m in \u001b[0;36mrequest\u001b[1;34m(self, method, url, fields, headers, **urlopen_kw)\u001b[0m\n\u001b[0;32m     78\u001b[0m         \u001b[1;32melse\u001b[0m\u001b[1;33m:\u001b[0m\u001b[1;33m\u001b[0m\u001b[1;33m\u001b[0m\u001b[0m\n\u001b[0;32m     79\u001b[0m             return self.request_encode_body(\n\u001b[1;32m---> 80\u001b[1;33m                 \u001b[0mmethod\u001b[0m\u001b[1;33m,\u001b[0m \u001b[0murl\u001b[0m\u001b[1;33m,\u001b[0m \u001b[0mfields\u001b[0m\u001b[1;33m=\u001b[0m\u001b[0mfields\u001b[0m\u001b[1;33m,\u001b[0m \u001b[0mheaders\u001b[0m\u001b[1;33m=\u001b[0m\u001b[0mheaders\u001b[0m\u001b[1;33m,\u001b[0m \u001b[1;33m**\u001b[0m\u001b[0murlopen_kw\u001b[0m\u001b[1;33m\u001b[0m\u001b[1;33m\u001b[0m\u001b[0m\n\u001b[0m\u001b[0;32m     81\u001b[0m             )\n\u001b[0;32m     82\u001b[0m \u001b[1;33m\u001b[0m\u001b[0m\n",
      "\u001b[1;32m~\\Anaconda3\\lib\\site-packages\\urllib3\\request.py\u001b[0m in \u001b[0;36mrequest_encode_body\u001b[1;34m(self, method, url, fields, headers, encode_multipart, multipart_boundary, **urlopen_kw)\u001b[0m\n\u001b[0;32m    169\u001b[0m         \u001b[0mextra_kw\u001b[0m\u001b[1;33m.\u001b[0m\u001b[0mupdate\u001b[0m\u001b[1;33m(\u001b[0m\u001b[0murlopen_kw\u001b[0m\u001b[1;33m)\u001b[0m\u001b[1;33m\u001b[0m\u001b[1;33m\u001b[0m\u001b[0m\n\u001b[0;32m    170\u001b[0m \u001b[1;33m\u001b[0m\u001b[0m\n\u001b[1;32m--> 171\u001b[1;33m         \u001b[1;32mreturn\u001b[0m \u001b[0mself\u001b[0m\u001b[1;33m.\u001b[0m\u001b[0murlopen\u001b[0m\u001b[1;33m(\u001b[0m\u001b[0mmethod\u001b[0m\u001b[1;33m,\u001b[0m \u001b[0murl\u001b[0m\u001b[1;33m,\u001b[0m \u001b[1;33m**\u001b[0m\u001b[0mextra_kw\u001b[0m\u001b[1;33m)\u001b[0m\u001b[1;33m\u001b[0m\u001b[1;33m\u001b[0m\u001b[0m\n\u001b[0m",
      "\u001b[1;32m~\\Anaconda3\\lib\\site-packages\\urllib3\\poolmanager.py\u001b[0m in \u001b[0;36murlopen\u001b[1;34m(self, method, url, redirect, **kw)\u001b[0m\n\u001b[0;32m    334\u001b[0m             \u001b[0mresponse\u001b[0m \u001b[1;33m=\u001b[0m \u001b[0mconn\u001b[0m\u001b[1;33m.\u001b[0m\u001b[0murlopen\u001b[0m\u001b[1;33m(\u001b[0m\u001b[0mmethod\u001b[0m\u001b[1;33m,\u001b[0m \u001b[0murl\u001b[0m\u001b[1;33m,\u001b[0m \u001b[1;33m**\u001b[0m\u001b[0mkw\u001b[0m\u001b[1;33m)\u001b[0m\u001b[1;33m\u001b[0m\u001b[1;33m\u001b[0m\u001b[0m\n\u001b[0;32m    335\u001b[0m         \u001b[1;32melse\u001b[0m\u001b[1;33m:\u001b[0m\u001b[1;33m\u001b[0m\u001b[1;33m\u001b[0m\u001b[0m\n\u001b[1;32m--> 336\u001b[1;33m             \u001b[0mresponse\u001b[0m \u001b[1;33m=\u001b[0m \u001b[0mconn\u001b[0m\u001b[1;33m.\u001b[0m\u001b[0murlopen\u001b[0m\u001b[1;33m(\u001b[0m\u001b[0mmethod\u001b[0m\u001b[1;33m,\u001b[0m \u001b[0mu\u001b[0m\u001b[1;33m.\u001b[0m\u001b[0mrequest_uri\u001b[0m\u001b[1;33m,\u001b[0m \u001b[1;33m**\u001b[0m\u001b[0mkw\u001b[0m\u001b[1;33m)\u001b[0m\u001b[1;33m\u001b[0m\u001b[1;33m\u001b[0m\u001b[0m\n\u001b[0m\u001b[0;32m    337\u001b[0m \u001b[1;33m\u001b[0m\u001b[0m\n\u001b[0;32m    338\u001b[0m         \u001b[0mredirect_location\u001b[0m \u001b[1;33m=\u001b[0m \u001b[0mredirect\u001b[0m \u001b[1;32mand\u001b[0m \u001b[0mresponse\u001b[0m\u001b[1;33m.\u001b[0m\u001b[0mget_redirect_location\u001b[0m\u001b[1;33m(\u001b[0m\u001b[1;33m)\u001b[0m\u001b[1;33m\u001b[0m\u001b[1;33m\u001b[0m\u001b[0m\n",
      "\u001b[1;32m~\\Anaconda3\\lib\\site-packages\\urllib3\\connectionpool.py\u001b[0m in \u001b[0;36murlopen\u001b[1;34m(self, method, url, body, headers, retries, redirect, assert_same_host, timeout, pool_timeout, release_conn, chunked, body_pos, **response_kw)\u001b[0m\n\u001b[0;32m    675\u001b[0m                 \u001b[0mbody\u001b[0m\u001b[1;33m=\u001b[0m\u001b[0mbody\u001b[0m\u001b[1;33m,\u001b[0m\u001b[1;33m\u001b[0m\u001b[1;33m\u001b[0m\u001b[0m\n\u001b[0;32m    676\u001b[0m                 \u001b[0mheaders\u001b[0m\u001b[1;33m=\u001b[0m\u001b[0mheaders\u001b[0m\u001b[1;33m,\u001b[0m\u001b[1;33m\u001b[0m\u001b[1;33m\u001b[0m\u001b[0m\n\u001b[1;32m--> 677\u001b[1;33m                 \u001b[0mchunked\u001b[0m\u001b[1;33m=\u001b[0m\u001b[0mchunked\u001b[0m\u001b[1;33m,\u001b[0m\u001b[1;33m\u001b[0m\u001b[1;33m\u001b[0m\u001b[0m\n\u001b[0m\u001b[0;32m    678\u001b[0m             )\n\u001b[0;32m    679\u001b[0m \u001b[1;33m\u001b[0m\u001b[0m\n",
      "\u001b[1;32m~\\Anaconda3\\lib\\site-packages\\urllib3\\connectionpool.py\u001b[0m in \u001b[0;36m_make_request\u001b[1;34m(self, conn, method, url, timeout, chunked, **httplib_request_kw)\u001b[0m\n\u001b[0;32m    424\u001b[0m                     \u001b[1;31m# Python 3 (including for exceptions like SystemExit).\u001b[0m\u001b[1;33m\u001b[0m\u001b[1;33m\u001b[0m\u001b[1;33m\u001b[0m\u001b[0m\n\u001b[0;32m    425\u001b[0m                     \u001b[1;31m# Otherwise it looks like a bug in the code.\u001b[0m\u001b[1;33m\u001b[0m\u001b[1;33m\u001b[0m\u001b[1;33m\u001b[0m\u001b[0m\n\u001b[1;32m--> 426\u001b[1;33m                     \u001b[0msix\u001b[0m\u001b[1;33m.\u001b[0m\u001b[0mraise_from\u001b[0m\u001b[1;33m(\u001b[0m\u001b[0me\u001b[0m\u001b[1;33m,\u001b[0m \u001b[1;32mNone\u001b[0m\u001b[1;33m)\u001b[0m\u001b[1;33m\u001b[0m\u001b[1;33m\u001b[0m\u001b[0m\n\u001b[0m\u001b[0;32m    427\u001b[0m         \u001b[1;32mexcept\u001b[0m \u001b[1;33m(\u001b[0m\u001b[0mSocketTimeout\u001b[0m\u001b[1;33m,\u001b[0m \u001b[0mBaseSSLError\u001b[0m\u001b[1;33m,\u001b[0m \u001b[0mSocketError\u001b[0m\u001b[1;33m)\u001b[0m \u001b[1;32mas\u001b[0m \u001b[0me\u001b[0m\u001b[1;33m:\u001b[0m\u001b[1;33m\u001b[0m\u001b[1;33m\u001b[0m\u001b[0m\n\u001b[0;32m    428\u001b[0m             \u001b[0mself\u001b[0m\u001b[1;33m.\u001b[0m\u001b[0m_raise_timeout\u001b[0m\u001b[1;33m(\u001b[0m\u001b[0merr\u001b[0m\u001b[1;33m=\u001b[0m\u001b[0me\u001b[0m\u001b[1;33m,\u001b[0m \u001b[0murl\u001b[0m\u001b[1;33m=\u001b[0m\u001b[0murl\u001b[0m\u001b[1;33m,\u001b[0m \u001b[0mtimeout_value\u001b[0m\u001b[1;33m=\u001b[0m\u001b[0mread_timeout\u001b[0m\u001b[1;33m)\u001b[0m\u001b[1;33m\u001b[0m\u001b[1;33m\u001b[0m\u001b[0m\n",
      "\u001b[1;32m~\\Anaconda3\\lib\\site-packages\\urllib3\\packages\\six.py\u001b[0m in \u001b[0;36mraise_from\u001b[1;34m(value, from_value)\u001b[0m\n",
      "\u001b[1;32m~\\Anaconda3\\lib\\site-packages\\urllib3\\connectionpool.py\u001b[0m in \u001b[0;36m_make_request\u001b[1;34m(self, conn, method, url, timeout, chunked, **httplib_request_kw)\u001b[0m\n\u001b[0;32m    419\u001b[0m                 \u001b[1;31m# Python 3\u001b[0m\u001b[1;33m\u001b[0m\u001b[1;33m\u001b[0m\u001b[1;33m\u001b[0m\u001b[0m\n\u001b[0;32m    420\u001b[0m                 \u001b[1;32mtry\u001b[0m\u001b[1;33m:\u001b[0m\u001b[1;33m\u001b[0m\u001b[1;33m\u001b[0m\u001b[0m\n\u001b[1;32m--> 421\u001b[1;33m                     \u001b[0mhttplib_response\u001b[0m \u001b[1;33m=\u001b[0m \u001b[0mconn\u001b[0m\u001b[1;33m.\u001b[0m\u001b[0mgetresponse\u001b[0m\u001b[1;33m(\u001b[0m\u001b[1;33m)\u001b[0m\u001b[1;33m\u001b[0m\u001b[1;33m\u001b[0m\u001b[0m\n\u001b[0m\u001b[0;32m    422\u001b[0m                 \u001b[1;32mexcept\u001b[0m \u001b[0mBaseException\u001b[0m \u001b[1;32mas\u001b[0m \u001b[0me\u001b[0m\u001b[1;33m:\u001b[0m\u001b[1;33m\u001b[0m\u001b[1;33m\u001b[0m\u001b[0m\n\u001b[0;32m    423\u001b[0m                     \u001b[1;31m# Remove the TypeError from the exception chain in\u001b[0m\u001b[1;33m\u001b[0m\u001b[1;33m\u001b[0m\u001b[1;33m\u001b[0m\u001b[0m\n",
      "\u001b[1;32m~\\Anaconda3\\lib\\http\\client.py\u001b[0m in \u001b[0;36mgetresponse\u001b[1;34m(self)\u001b[0m\n\u001b[0;32m   1334\u001b[0m         \u001b[1;32mtry\u001b[0m\u001b[1;33m:\u001b[0m\u001b[1;33m\u001b[0m\u001b[1;33m\u001b[0m\u001b[0m\n\u001b[0;32m   1335\u001b[0m             \u001b[1;32mtry\u001b[0m\u001b[1;33m:\u001b[0m\u001b[1;33m\u001b[0m\u001b[1;33m\u001b[0m\u001b[0m\n\u001b[1;32m-> 1336\u001b[1;33m                 \u001b[0mresponse\u001b[0m\u001b[1;33m.\u001b[0m\u001b[0mbegin\u001b[0m\u001b[1;33m(\u001b[0m\u001b[1;33m)\u001b[0m\u001b[1;33m\u001b[0m\u001b[1;33m\u001b[0m\u001b[0m\n\u001b[0m\u001b[0;32m   1337\u001b[0m             \u001b[1;32mexcept\u001b[0m \u001b[0mConnectionError\u001b[0m\u001b[1;33m:\u001b[0m\u001b[1;33m\u001b[0m\u001b[1;33m\u001b[0m\u001b[0m\n\u001b[0;32m   1338\u001b[0m                 \u001b[0mself\u001b[0m\u001b[1;33m.\u001b[0m\u001b[0mclose\u001b[0m\u001b[1;33m(\u001b[0m\u001b[1;33m)\u001b[0m\u001b[1;33m\u001b[0m\u001b[1;33m\u001b[0m\u001b[0m\n",
      "\u001b[1;32m~\\Anaconda3\\lib\\http\\client.py\u001b[0m in \u001b[0;36mbegin\u001b[1;34m(self)\u001b[0m\n\u001b[0;32m    304\u001b[0m         \u001b[1;31m# read until we get a non-100 response\u001b[0m\u001b[1;33m\u001b[0m\u001b[1;33m\u001b[0m\u001b[1;33m\u001b[0m\u001b[0m\n\u001b[0;32m    305\u001b[0m         \u001b[1;32mwhile\u001b[0m \u001b[1;32mTrue\u001b[0m\u001b[1;33m:\u001b[0m\u001b[1;33m\u001b[0m\u001b[1;33m\u001b[0m\u001b[0m\n\u001b[1;32m--> 306\u001b[1;33m             \u001b[0mversion\u001b[0m\u001b[1;33m,\u001b[0m \u001b[0mstatus\u001b[0m\u001b[1;33m,\u001b[0m \u001b[0mreason\u001b[0m \u001b[1;33m=\u001b[0m \u001b[0mself\u001b[0m\u001b[1;33m.\u001b[0m\u001b[0m_read_status\u001b[0m\u001b[1;33m(\u001b[0m\u001b[1;33m)\u001b[0m\u001b[1;33m\u001b[0m\u001b[1;33m\u001b[0m\u001b[0m\n\u001b[0m\u001b[0;32m    307\u001b[0m             \u001b[1;32mif\u001b[0m \u001b[0mstatus\u001b[0m \u001b[1;33m!=\u001b[0m \u001b[0mCONTINUE\u001b[0m\u001b[1;33m:\u001b[0m\u001b[1;33m\u001b[0m\u001b[1;33m\u001b[0m\u001b[0m\n\u001b[0;32m    308\u001b[0m                 \u001b[1;32mbreak\u001b[0m\u001b[1;33m\u001b[0m\u001b[1;33m\u001b[0m\u001b[0m\n",
      "\u001b[1;32m~\\Anaconda3\\lib\\http\\client.py\u001b[0m in \u001b[0;36m_read_status\u001b[1;34m(self)\u001b[0m\n\u001b[0;32m    265\u001b[0m \u001b[1;33m\u001b[0m\u001b[0m\n\u001b[0;32m    266\u001b[0m     \u001b[1;32mdef\u001b[0m \u001b[0m_read_status\u001b[0m\u001b[1;33m(\u001b[0m\u001b[0mself\u001b[0m\u001b[1;33m)\u001b[0m\u001b[1;33m:\u001b[0m\u001b[1;33m\u001b[0m\u001b[1;33m\u001b[0m\u001b[0m\n\u001b[1;32m--> 267\u001b[1;33m         \u001b[0mline\u001b[0m \u001b[1;33m=\u001b[0m \u001b[0mstr\u001b[0m\u001b[1;33m(\u001b[0m\u001b[0mself\u001b[0m\u001b[1;33m.\u001b[0m\u001b[0mfp\u001b[0m\u001b[1;33m.\u001b[0m\u001b[0mreadline\u001b[0m\u001b[1;33m(\u001b[0m\u001b[0m_MAXLINE\u001b[0m \u001b[1;33m+\u001b[0m \u001b[1;36m1\u001b[0m\u001b[1;33m)\u001b[0m\u001b[1;33m,\u001b[0m \u001b[1;34m\"iso-8859-1\"\u001b[0m\u001b[1;33m)\u001b[0m\u001b[1;33m\u001b[0m\u001b[1;33m\u001b[0m\u001b[0m\n\u001b[0m\u001b[0;32m    268\u001b[0m         \u001b[1;32mif\u001b[0m \u001b[0mlen\u001b[0m\u001b[1;33m(\u001b[0m\u001b[0mline\u001b[0m\u001b[1;33m)\u001b[0m \u001b[1;33m>\u001b[0m \u001b[0m_MAXLINE\u001b[0m\u001b[1;33m:\u001b[0m\u001b[1;33m\u001b[0m\u001b[1;33m\u001b[0m\u001b[0m\n\u001b[0;32m    269\u001b[0m             \u001b[1;32mraise\u001b[0m \u001b[0mLineTooLong\u001b[0m\u001b[1;33m(\u001b[0m\u001b[1;34m\"status line\"\u001b[0m\u001b[1;33m)\u001b[0m\u001b[1;33m\u001b[0m\u001b[1;33m\u001b[0m\u001b[0m\n",
      "\u001b[1;32m~\\Anaconda3\\lib\\socket.py\u001b[0m in \u001b[0;36mreadinto\u001b[1;34m(self, b)\u001b[0m\n\u001b[0;32m    587\u001b[0m         \u001b[1;32mwhile\u001b[0m \u001b[1;32mTrue\u001b[0m\u001b[1;33m:\u001b[0m\u001b[1;33m\u001b[0m\u001b[1;33m\u001b[0m\u001b[0m\n\u001b[0;32m    588\u001b[0m             \u001b[1;32mtry\u001b[0m\u001b[1;33m:\u001b[0m\u001b[1;33m\u001b[0m\u001b[1;33m\u001b[0m\u001b[0m\n\u001b[1;32m--> 589\u001b[1;33m                 \u001b[1;32mreturn\u001b[0m \u001b[0mself\u001b[0m\u001b[1;33m.\u001b[0m\u001b[0m_sock\u001b[0m\u001b[1;33m.\u001b[0m\u001b[0mrecv_into\u001b[0m\u001b[1;33m(\u001b[0m\u001b[0mb\u001b[0m\u001b[1;33m)\u001b[0m\u001b[1;33m\u001b[0m\u001b[1;33m\u001b[0m\u001b[0m\n\u001b[0m\u001b[0;32m    590\u001b[0m             \u001b[1;32mexcept\u001b[0m \u001b[0mtimeout\u001b[0m\u001b[1;33m:\u001b[0m\u001b[1;33m\u001b[0m\u001b[1;33m\u001b[0m\u001b[0m\n\u001b[0;32m    591\u001b[0m                 \u001b[0mself\u001b[0m\u001b[1;33m.\u001b[0m\u001b[0m_timeout_occurred\u001b[0m \u001b[1;33m=\u001b[0m \u001b[1;32mTrue\u001b[0m\u001b[1;33m\u001b[0m\u001b[1;33m\u001b[0m\u001b[0m\n",
      "\u001b[1;31mKeyboardInterrupt\u001b[0m: "
     ]
    }
   ],
   "source": [
    "# init chrome driver\n",
    "chrome_driver = \"C:/Users/seungsu/Desktop/gentlegraph/chromedriver_win32/chromedriver.exe\"\n",
    "\n",
    "chrome_options = webdriver.ChromeOptions()\n",
    "\n",
    "# chrome_options.add_argument(\"headless\")\n",
    "chrome_options.add_argument(\"--window-size=1100,2000\")\n",
    "userAgent = UserAgent().random\n",
    "chrome_options.add_argument(f'user-agent={userAgent}')\n",
    "\n",
    "prefs = {'profile.default_content_setting_values': {'cookies' : 2, 'images': 2, 'plugins' : 2, 'popups': 2, 'geolocation': 2, 'notifications' : 2, 'auto_select_certificate': 2, 'fullscreen' : 2, 'mouselock' : 2, 'mixed_script': 2, 'media_stream' : 2, 'media_stream_mic' : 2, 'media_stream_camera': 2, 'protocol_handlers' : 2, 'ppapi_broker' : 2, 'automatic_downloads': 2, 'midi_sysex' : 2, 'push_messaging' : 2, 'ssl_cert_decisions': 2, 'metro_switch_to_desktop' : 2, 'protected_media_identifier': 2, 'app_banner': 2, 'site_engagement' : 2, 'durable_storage' : 2}} \n",
    "chrome_options.add_experimental_option('prefs', prefs)\n",
    "driver = webdriver.Chrome(chrome_driver, options=chrome_options)\n",
    "\n",
    "\n",
    "# get playlists\n",
    "driver.get(\"https://www.youtube.com/playlist?list=PLmtapKaZsgZt3g_uAPJbsMWdkVsznn_2R\")\n",
    "driver.execute_script('window.scrollTo(0, 20000);')\n",
    "driver.implicitly_wait(5)\n",
    "time.sleep(3)\n",
    "playlist = driver.find_elements_by_css_selector(\"ytd-playlist-video-renderer.style-scope.ytd-playlist-video-list-renderer\")\n",
    "\n",
    "print(f\"total data : {len(playlist)}\")\n",
    "\n",
    "# get brief info\n",
    "total_contents = []\n",
    "for content in tqdm(playlist):\n",
    "    index = content.find_element_by_css_selector(\"#index\").text\n",
    "    video_info = content.find_element_by_css_selector(\"a#video-title\")\n",
    "    channel_info = content.find_element_by_css_selector(\"ytd-channel-name#channel-name\").find_element_by_css_selector(\"a\")\n",
    "    url = video_info.get_attribute(\"href\")\n",
    "    title = video_info.text\n",
    "    creator = channel_info.text\n",
    "    creator_channel = channel_info.get_attribute(\"href\")\n",
    "    \n",
    "    data = {\n",
    "        \"rank\" : index,\n",
    "        \"content_url\" : url,\n",
    "        \"content_title\" : title,\n",
    "        \"creator\" : creator,\n",
    "        \"creator_url\" : creator_channel\n",
    "    }\n",
    "    \n",
    "    total_contents.append(data)\n",
    "\n",
    "# get detail info\n",
    "for content in tqdm(total_contents):\n",
    "    crawl_detail_content(content[\"content_url\"], content)"
   ]
  },
  {
   "cell_type": "code",
   "execution_count": null,
   "metadata": {},
   "outputs": [],
   "source": []
  },
  {
   "cell_type": "code",
   "execution_count": 17,
   "metadata": {},
   "outputs": [
    {
     "name": "stdout",
     "output_type": "stream",
     "text": [
      "{'rank': '25', 'content_url': 'https://www.youtube.com/watch?v=yIwooGxe1dg&list=PLmtapKaZsgZt3g_uAPJbsMWdkVsznn_2R&index=25', 'content_title': '당신이 쿠지라이식 간짬뽕을 절대 알 수 없는 이유(마지막 소름 주의)', 'creator': '쿠왕coo king', 'creator_url': 'https://www.youtube.com/channel/UCR-qpXziP5pIqNHFKL-w12g', 'views': '1046553', 'date': '2021-3-22', 'good': 15000, 'bad': 1000, 'comment': -1, 'hashtags': ['#shorts'], 'description': ['당신이 쿠지라이식 간짬뽕을 알 수 없는 이유에 대해서 진지하게 알려드립니다. ', '문의 : cooking7564@gmail.com\\n\\n🎵 브금대통령\\n🎵Track :  ']}\n"
     ]
    },
    {
     "data": {
      "text/plain": [
       "{'rank': '25',\n",
       " 'content_url': 'https://www.youtube.com/watch?v=yIwooGxe1dg&list=PLmtapKaZsgZt3g_uAPJbsMWdkVsznn_2R&index=25',\n",
       " 'content_title': '당신이 쿠지라이식 간짬뽕을 절대 알 수 없는 이유(마지막 소름 주의)',\n",
       " 'creator': '쿠왕coo king',\n",
       " 'creator_url': 'https://www.youtube.com/channel/UCR-qpXziP5pIqNHFKL-w12g',\n",
       " 'views': '1046553',\n",
       " 'date': '2021-3-22',\n",
       " 'good': 15000,\n",
       " 'bad': 1000,\n",
       " 'comment': -1,\n",
       " 'hashtags': ['#shorts'],\n",
       " 'description': ['당신이 쿠지라이식 간짬뽕을 알 수 없는 이유에 대해서 진지하게 알려드립니다. ',\n",
       "  '문의 : cooking7564@gmail.com\\n\\n🎵 브금대통령\\n🎵Track :  ']}"
      ]
     },
     "execution_count": 17,
     "metadata": {},
     "output_type": "execute_result"
    }
   ],
   "source": [
    "content = total_contents[24]\n",
    "crawl_detail_content(content[\"content_url\"], content)"
   ]
  },
  {
   "cell_type": "code",
   "execution_count": null,
   "metadata": {},
   "outputs": [],
   "source": []
  }
 ],
 "metadata": {
  "kernelspec": {
   "display_name": "Python 3",
   "language": "python",
   "name": "python3"
  },
  "language_info": {
   "codemirror_mode": {
    "name": "ipython",
    "version": 3
   },
   "file_extension": ".py",
   "mimetype": "text/x-python",
   "name": "python",
   "nbconvert_exporter": "python",
   "pygments_lexer": "ipython3",
   "version": "3.7.4"
  }
 },
 "nbformat": 4,
 "nbformat_minor": 2
}
